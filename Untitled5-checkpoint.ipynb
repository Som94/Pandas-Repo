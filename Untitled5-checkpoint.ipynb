{
 "cells": [
  {
   "cell_type": "code",
   "execution_count": 2,
   "id": "29fab74e",
   "metadata": {},
   "outputs": [
    {
     "name": "stdout",
     "output_type": "stream",
     "text": [
      "     Item_Identifier  Item_Weight  Item_Fat_Content  Item_Visibility  \\\n",
      "0              FDA15        9.300                 0         0.016047   \n",
      "1              DRC01        5.920                 1         0.019278   \n",
      "2              FDN15       17.500                 0         0.016760   \n",
      "3              FDX07       19.200                 1         0.000000   \n",
      "4              NCD19        8.930                 0         0.000000   \n",
      "...              ...          ...               ...              ...   \n",
      "8518           FDF22        6.865                 0         0.056783   \n",
      "8519           FDS36        8.380                 1         0.046982   \n",
      "8520           NCJ29       10.600                 0         0.035186   \n",
      "8521           FDN46        7.210                 1         0.145221   \n",
      "8522           DRG01       14.800                 0         0.044878   \n",
      "\n",
      "                  Item_Type  Item_MRP Outlet_Identifier  \\\n",
      "0                     Dairy  249.8092            OUT049   \n",
      "1               Soft Drinks   48.2692            OUT018   \n",
      "2                      Meat  141.6180            OUT049   \n",
      "3     Fruits and Vegetables  182.0950            OUT010   \n",
      "4                 Household   53.8614            OUT013   \n",
      "...                     ...       ...               ...   \n",
      "8518            Snack Foods  214.5218            OUT013   \n",
      "8519           Baking Goods  108.1570            OUT045   \n",
      "8520     Health and Hygiene   85.1224            OUT035   \n",
      "8521            Snack Foods  103.1332            OUT018   \n",
      "8522            Soft Drinks   75.4670            OUT046   \n",
      "\n",
      "      Outlet_Establishment_Year Outlet_Size Outlet_Location_Type  \\\n",
      "0                          1999      Medium               Tier 1   \n",
      "1                          2009      Medium               Tier 3   \n",
      "2                          1999      Medium               Tier 1   \n",
      "3                          1998         NaN               Tier 3   \n",
      "4                          1987        High               Tier 3   \n",
      "...                         ...         ...                  ...   \n",
      "8518                       1987        High               Tier 3   \n",
      "8519                       2002         NaN               Tier 2   \n",
      "8520                       2004       Small               Tier 2   \n",
      "8521                       2009      Medium               Tier 3   \n",
      "8522                       1997       Small               Tier 1   \n",
      "\n",
      "            Outlet_Type  Item_Outlet_Sales  \n",
      "0     Supermarket Type1          3735.1380  \n",
      "1     Supermarket Type2           443.4228  \n",
      "2     Supermarket Type1          2097.2700  \n",
      "3         Grocery Store           732.3800  \n",
      "4     Supermarket Type1           994.7052  \n",
      "...                 ...                ...  \n",
      "8518  Supermarket Type1          2778.3834  \n",
      "8519  Supermarket Type1           549.2850  \n",
      "8520  Supermarket Type1          1193.1136  \n",
      "8521  Supermarket Type2          1845.5976  \n",
      "8522  Supermarket Type1           765.6700  \n",
      "\n",
      "[8523 rows x 12 columns]\n"
     ]
    }
   ],
   "source": [
    "import pandas as pd\n",
    "\n",
    "df=pd.read_csv('E:\\Aroha Tech\\Pandas Session\\Data_Outlet.csv')\n",
    "#print(df)\n",
    "\n",
    "#group_by_item_fact_contain=df.groupby('Item_Fat_Content' )\n",
    "#print(group_by_item_fact_contain)\n",
    "\n",
    "\n",
    "#-------------Convert Low Fat as 0 and Regular as 1----------------------------\n",
    "\n",
    "convrt=df['Item_Fat_Content']\n",
    "Item_Fat_Content_dup=[]\n",
    "for i in convrt:\n",
    "    if i[0].upper()=='L':\n",
    "        i='Low Fat'\n",
    "        #print(i)\n",
    "        Item_Fat_Content_dup.append(i)\n",
    "    else:\n",
    "        i='Regular'\n",
    "        #print(i)\n",
    "        Item_Fat_Content_dup.append(i)\n",
    "        \n",
    "#print(Item_Fat_Content_dup)\n",
    "\n",
    "df['Item_Fat_Content']=Item_Fat_Content_dup\n",
    "\n",
    "make_zero_one_list=[]\n",
    "\n",
    "for j in df['Item_Fat_Content']:\n",
    "    if j=='Low Fat':\n",
    "        make_zero_one_list.append(0)\n",
    "    else:\n",
    "        make_zero_one_list.append(1)\n",
    "        \n",
    "#print(make_zero_one_list)\n",
    "\n",
    "df['Item_Fat_Content']=make_zero_one_list\n",
    "\n",
    "print(df)"
   ]
  },
  {
   "cell_type": "markdown",
   "id": "3703d040",
   "metadata": {},
   "source": [
    "Divided Outlet_Size into 3 parts as High_outlet, medium_outlet, small_outlet"
   ]
  },
  {
   "cell_type": "code",
   "execution_count": 3,
   "id": "b4702bf0",
   "metadata": {},
   "outputs": [],
   "source": [
    "s=df.groupby('Outlet_Type')"
   ]
  },
  {
   "cell_type": "markdown",
   "id": "386b7144",
   "metadata": {},
   "source": [
    "ss=df.groupby(pd.Grouper(key='Outlet_Type')).count(axis='Outlet_Size')\n"
   ]
  },
  {
   "cell_type": "code",
   "execution_count": 20,
   "id": "5949414d",
   "metadata": {},
   "outputs": [
    {
     "name": "stdout",
     "output_type": "stream",
     "text": [
      "                   Item_Identifier  Item_Weight  Item_Fat_Content  \\\n",
      "Outlet_Type                                                         \n",
      "Supermarket Type1             5577         5577              5577   \n",
      "Supermarket Type2              928          928               928   \n",
      "Grocery Store                 1083          555              1083   \n",
      "Supermarket Type3              935            0               935   \n",
      "\n",
      "                   Item_Visibility  Item_Type  Item_MRP  Outlet_Identifier  \\\n",
      "Outlet_Type                                                                  \n",
      "Supermarket Type1             5577       5577      5577               5577   \n",
      "Supermarket Type2              928        928       928                928   \n",
      "Grocery Store                 1083       1083      1083               1083   \n",
      "Supermarket Type3              935        935       935                935   \n",
      "\n",
      "                   Outlet_Establishment_Year  Outlet_Size  \\\n",
      "Outlet_Type                                                 \n",
      "Supermarket Type1                       5577         3722   \n",
      "Supermarket Type2                        928          928   \n",
      "Grocery Store                           1083          528   \n",
      "Supermarket Type3                        935          935   \n",
      "\n",
      "                   Outlet_Location_Type  Item_Outlet_Sales  \n",
      "Outlet_Type                                                 \n",
      "Supermarket Type1                  5577               5577  \n",
      "Supermarket Type2                   928                928  \n",
      "Grocery Store                      1083               1083  \n",
      "Supermarket Type3                   935                935  \n"
     ]
    }
   ],
   "source": [
    "print(ss)"
   ]
  },
  {
   "cell_type": "code",
   "execution_count": null,
   "id": "b0a2184d",
   "metadata": {},
   "outputs": [],
   "source": []
  }
 ],
 "metadata": {
  "kernelspec": {
   "display_name": "Python 3",
   "language": "python",
   "name": "python3"
  },
  "language_info": {
   "codemirror_mode": {
    "name": "ipython",
    "version": 3
   },
   "file_extension": ".py",
   "mimetype": "text/x-python",
   "name": "python",
   "nbconvert_exporter": "python",
   "pygments_lexer": "ipython3",
   "version": "3.8.8"
  }
 },
 "nbformat": 4,
 "nbformat_minor": 5
}
