{
 "cells": [
  {
   "cell_type": "code",
   "execution_count": 7,
   "id": "7b39f7f4",
   "metadata": {},
   "outputs": [],
   "source": [
    "import boto3,os"
   ]
  },
  {
   "cell_type": "code",
   "execution_count": 8,
   "id": "fc9b815c",
   "metadata": {
    "scrolled": true
   },
   "outputs": [],
   "source": [
    "import pandas as pd"
   ]
  },
  {
   "cell_type": "code",
   "execution_count": 9,
   "id": "58977c71",
   "metadata": {},
   "outputs": [],
   "source": [
    "#client access creation"
   ]
  },
  {
   "cell_type": "code",
   "execution_count": 13,
   "id": "346cec20",
   "metadata": {},
   "outputs": [],
   "source": [
    "s3_client=boto3.client('s3')\n"
   ]
  },
  {
   "cell_type": "code",
   "execution_count": 12,
   "id": "ca7f49d1",
   "metadata": {},
   "outputs": [],
   "source": [
    "# Resource access creation"
   ]
  },
  {
   "cell_type": "code",
   "execution_count": 20,
   "id": "1c9fdbf8",
   "metadata": {},
   "outputs": [],
   "source": [
    "s3=boto3.resource('s3')"
   ]
  },
  {
   "cell_type": "code",
   "execution_count": 21,
   "id": "61e7f993",
   "metadata": {},
   "outputs": [],
   "source": [
    "#creating a bucket"
   ]
  },
  {
   "cell_type": "code",
   "execution_count": 22,
   "id": "e0a85461",
   "metadata": {},
   "outputs": [
    {
     "data": {
      "text/plain": [
       "s3.Bucket(name='som-aws-bucket-2')"
      ]
     },
     "execution_count": 22,
     "metadata": {},
     "output_type": "execute_result"
    }
   ],
   "source": [
    "s3.create_bucket(Bucket='som-aws-bucket-2')"
   ]
  },
  {
   "cell_type": "code",
   "execution_count": 24,
   "id": "c62ee7c8",
   "metadata": {},
   "outputs": [],
   "source": [
    "#To Show how many bucket in your s3"
   ]
  },
  {
   "cell_type": "code",
   "execution_count": 25,
   "id": "a8e96be1",
   "metadata": {},
   "outputs": [
    {
     "name": "stdout",
     "output_type": "stream",
     "text": [
      "s3.Bucket(name='som-aws-bucket-1')\n",
      "s3.Bucket(name='som-aws-bucket-2')\n"
     ]
    }
   ],
   "source": [
    "for bucket in s3.buckets.all():\n",
    "    print(bucket)"
   ]
  },
  {
   "cell_type": "code",
   "execution_count": 26,
   "id": "09df1077",
   "metadata": {},
   "outputs": [],
   "source": [
    "#To show all objects in all buckets"
   ]
  },
  {
   "cell_type": "code",
   "execution_count": 29,
   "id": "adccc870",
   "metadata": {},
   "outputs": [
    {
     "name": "stdout",
     "output_type": "stream",
     "text": [
      "s3.ObjectSummary(bucket_name='som-aws-bucket-1', key='Train.csv')\n",
      "-------------------------\n",
      "som-aws-bucket-1\\Train.csv\n"
     ]
    }
   ],
   "source": [
    "for bucket in s3.buckets.all():\n",
    "    for obj in bucket.objects.all():\n",
    "        print(obj)\n",
    "        print('-------------------------')\n",
    "        print(os.path.join(obj.bucket_name , obj.key))"
   ]
  },
  {
   "cell_type": "code",
   "execution_count": null,
   "id": "11f57fb3",
   "metadata": {},
   "outputs": [],
   "source": []
  }
 ],
 "metadata": {
  "kernelspec": {
   "display_name": "Python 3",
   "language": "python",
   "name": "python3"
  },
  "language_info": {
   "codemirror_mode": {
    "name": "ipython",
    "version": 3
   },
   "file_extension": ".py",
   "mimetype": "text/x-python",
   "name": "python",
   "nbconvert_exporter": "python",
   "pygments_lexer": "ipython3",
   "version": "3.8.8"
  }
 },
 "nbformat": 4,
 "nbformat_minor": 5
}
