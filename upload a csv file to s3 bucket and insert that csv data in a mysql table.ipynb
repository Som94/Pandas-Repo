{
 "cells": [
  {
   "cell_type": "code",
   "execution_count": 34,
   "id": "34c0c101",
   "metadata": {},
   "outputs": [],
   "source": [
    "import boto3,os\n",
    "import pandas as pd"
   ]
  },
  {
   "cell_type": "code",
   "execution_count": 35,
   "id": "2f9df8dd",
   "metadata": {},
   "outputs": [],
   "source": [
    "s3=boto3.resource('s3')"
   ]
  },
  {
   "cell_type": "code",
   "execution_count": 36,
   "id": "52a9c06b",
   "metadata": {},
   "outputs": [],
   "source": [
    "s3.meta.client.upload_file(r'E:\\Aroha Tech\\AWS Session\\s3 Bucket\\15th Aug\\vehicle_master.csv','som-aws-bucket-1','vehicle_master.csv')"
   ]
  },
  {
   "cell_type": "code",
   "execution_count": 37,
   "id": "5c4693a3",
   "metadata": {},
   "outputs": [],
   "source": [
    "import mysql.connector"
   ]
  },
  {
   "cell_type": "code",
   "execution_count": 38,
   "id": "a69ffb90",
   "metadata": {},
   "outputs": [],
   "source": [
    "con=mysql.connector.connect(host='localhost',database='test',user='root',password='root')\n",
    "cursor=con.cursor()"
   ]
  },
  {
   "cell_type": "raw",
   "id": "6ef2ab74",
   "metadata": {},
   "source": []
  },
  {
   "cell_type": "code",
   "execution_count": 40,
   "id": "9df8e305",
   "metadata": {},
   "outputs": [
    {
     "ename": "ProgrammingError",
     "evalue": "1050 (42S01): Table 'vehicle_master' already exists",
     "output_type": "error",
     "traceback": [
      "\u001b[1;31m---------------------------------------------------------------------------\u001b[0m",
      "\u001b[1;31mProgrammingError\u001b[0m                          Traceback (most recent call last)",
      "\u001b[1;32m<ipython-input-40-d7c20db06c3e>\u001b[0m in \u001b[0;36m<module>\u001b[1;34m\u001b[0m\n\u001b[1;32m----> 1\u001b[1;33m \u001b[0mcursor\u001b[0m\u001b[1;33m.\u001b[0m\u001b[0mexecute\u001b[0m\u001b[1;33m(\u001b[0m\u001b[1;34m\" create table vehicle_master(ID_VEHICLE int(4) primary Key,REG_NUMBER varchar(50),NICK_NAME varchar(50),ID_BRANCH int(4),VEHICLE_TYPE varchar(100),MAKER varchar(50),MODEL varchar(50),PRODUCT_TYPE varchar(50)); \"\u001b[0m\u001b[1;33m)\u001b[0m\u001b[1;33m\u001b[0m\u001b[1;33m\u001b[0m\u001b[0m\n\u001b[0m\u001b[0;32m      2\u001b[0m \u001b[0mprint\u001b[0m\u001b[1;33m(\u001b[0m\u001b[1;34m\"Table Created Successfully..\"\u001b[0m\u001b[1;33m)\u001b[0m\u001b[1;33m\u001b[0m\u001b[1;33m\u001b[0m\u001b[0m\n",
      "\u001b[1;32mC:\\ProgramData\\Anaconda3\\lib\\site-packages\\mysql\\connector\\cursor.py\u001b[0m in \u001b[0;36mexecute\u001b[1;34m(self, operation, params, multi)\u001b[0m\n\u001b[0;32m    566\u001b[0m \u001b[1;33m\u001b[0m\u001b[0m\n\u001b[0;32m    567\u001b[0m         \u001b[1;32mtry\u001b[0m\u001b[1;33m:\u001b[0m\u001b[1;33m\u001b[0m\u001b[1;33m\u001b[0m\u001b[0m\n\u001b[1;32m--> 568\u001b[1;33m             \u001b[0mself\u001b[0m\u001b[1;33m.\u001b[0m\u001b[0m_handle_result\u001b[0m\u001b[1;33m(\u001b[0m\u001b[0mself\u001b[0m\u001b[1;33m.\u001b[0m\u001b[0m_connection\u001b[0m\u001b[1;33m.\u001b[0m\u001b[0mcmd_query\u001b[0m\u001b[1;33m(\u001b[0m\u001b[0mstmt\u001b[0m\u001b[1;33m)\u001b[0m\u001b[1;33m)\u001b[0m\u001b[1;33m\u001b[0m\u001b[1;33m\u001b[0m\u001b[0m\n\u001b[0m\u001b[0;32m    569\u001b[0m         \u001b[1;32mexcept\u001b[0m \u001b[0merrors\u001b[0m\u001b[1;33m.\u001b[0m\u001b[0mInterfaceError\u001b[0m\u001b[1;33m:\u001b[0m\u001b[1;33m\u001b[0m\u001b[1;33m\u001b[0m\u001b[0m\n\u001b[0;32m    570\u001b[0m             \u001b[1;32mif\u001b[0m \u001b[0mself\u001b[0m\u001b[1;33m.\u001b[0m\u001b[0m_connection\u001b[0m\u001b[1;33m.\u001b[0m\u001b[0m_have_next_result\u001b[0m\u001b[1;33m:\u001b[0m  \u001b[1;31m# pylint: disable=W0212\u001b[0m\u001b[1;33m\u001b[0m\u001b[1;33m\u001b[0m\u001b[0m\n",
      "\u001b[1;32mC:\\ProgramData\\Anaconda3\\lib\\site-packages\\mysql\\connector\\connection.py\u001b[0m in \u001b[0;36mcmd_query\u001b[1;34m(self, query, raw, buffered, raw_as_string)\u001b[0m\n\u001b[0;32m    844\u001b[0m         \u001b[0mquery\u001b[0m \u001b[1;33m=\u001b[0m \u001b[0mbytes\u001b[0m\u001b[1;33m(\u001b[0m\u001b[0mpacket\u001b[0m\u001b[1;33m)\u001b[0m\u001b[1;33m\u001b[0m\u001b[1;33m\u001b[0m\u001b[0m\n\u001b[0;32m    845\u001b[0m         \u001b[1;32mtry\u001b[0m\u001b[1;33m:\u001b[0m\u001b[1;33m\u001b[0m\u001b[1;33m\u001b[0m\u001b[0m\n\u001b[1;32m--> 846\u001b[1;33m             \u001b[0mresult\u001b[0m \u001b[1;33m=\u001b[0m \u001b[0mself\u001b[0m\u001b[1;33m.\u001b[0m\u001b[0m_handle_result\u001b[0m\u001b[1;33m(\u001b[0m\u001b[0mself\u001b[0m\u001b[1;33m.\u001b[0m\u001b[0m_send_cmd\u001b[0m\u001b[1;33m(\u001b[0m\u001b[0mServerCmd\u001b[0m\u001b[1;33m.\u001b[0m\u001b[0mQUERY\u001b[0m\u001b[1;33m,\u001b[0m \u001b[0mquery\u001b[0m\u001b[1;33m)\u001b[0m\u001b[1;33m)\u001b[0m\u001b[1;33m\u001b[0m\u001b[1;33m\u001b[0m\u001b[0m\n\u001b[0m\u001b[0;32m    847\u001b[0m         \u001b[1;32mexcept\u001b[0m \u001b[0merrors\u001b[0m\u001b[1;33m.\u001b[0m\u001b[0mProgrammingError\u001b[0m \u001b[1;32mas\u001b[0m \u001b[0merr\u001b[0m\u001b[1;33m:\u001b[0m\u001b[1;33m\u001b[0m\u001b[1;33m\u001b[0m\u001b[0m\n\u001b[0;32m    848\u001b[0m             \u001b[1;32mif\u001b[0m \u001b[0merr\u001b[0m\u001b[1;33m.\u001b[0m\u001b[0merrno\u001b[0m \u001b[1;33m==\u001b[0m \u001b[1;36m3948\u001b[0m \u001b[1;32mand\u001b[0m\u001b[0;31m \u001b[0m\u001b[0;31m\\\u001b[0m\u001b[1;33m\u001b[0m\u001b[1;33m\u001b[0m\u001b[0m\n",
      "\u001b[1;32mC:\\ProgramData\\Anaconda3\\lib\\site-packages\\mysql\\connector\\connection.py\u001b[0m in \u001b[0;36m_handle_result\u001b[1;34m(self, packet)\u001b[0m\n\u001b[0;32m    654\u001b[0m             \u001b[1;32mreturn\u001b[0m \u001b[0mself\u001b[0m\u001b[1;33m.\u001b[0m\u001b[0m_handle_eof\u001b[0m\u001b[1;33m(\u001b[0m\u001b[0mpacket\u001b[0m\u001b[1;33m)\u001b[0m\u001b[1;33m\u001b[0m\u001b[1;33m\u001b[0m\u001b[0m\n\u001b[0;32m    655\u001b[0m         \u001b[1;32melif\u001b[0m \u001b[0mpacket\u001b[0m\u001b[1;33m[\u001b[0m\u001b[1;36m4\u001b[0m\u001b[1;33m]\u001b[0m \u001b[1;33m==\u001b[0m \u001b[1;36m255\u001b[0m\u001b[1;33m:\u001b[0m\u001b[1;33m\u001b[0m\u001b[1;33m\u001b[0m\u001b[0m\n\u001b[1;32m--> 656\u001b[1;33m             \u001b[1;32mraise\u001b[0m \u001b[0merrors\u001b[0m\u001b[1;33m.\u001b[0m\u001b[0mget_exception\u001b[0m\u001b[1;33m(\u001b[0m\u001b[0mpacket\u001b[0m\u001b[1;33m)\u001b[0m\u001b[1;33m\u001b[0m\u001b[1;33m\u001b[0m\u001b[0m\n\u001b[0m\u001b[0;32m    657\u001b[0m \u001b[1;33m\u001b[0m\u001b[0m\n\u001b[0;32m    658\u001b[0m         \u001b[1;31m# We have a text result set\u001b[0m\u001b[1;33m\u001b[0m\u001b[1;33m\u001b[0m\u001b[1;33m\u001b[0m\u001b[0m\n",
      "\u001b[1;31mProgrammingError\u001b[0m: 1050 (42S01): Table 'vehicle_master' already exists"
     ]
    }
   ],
   "source": [
    "cursor.execute(\" create table vehicle_master(ID_VEHICLE int(4) primary Key,REG_NUMBER varchar(50),NICK_NAME varchar(50),ID_BRANCH int(4),VEHICLE_TYPE varchar(100),MAKER varchar(50),MODEL varchar(50),PRODUCT_TYPE varchar(50)); \")\n",
    "print(\"Table Created Successfully..\")"
   ]
  },
  {
   "cell_type": "code",
   "execution_count": null,
   "id": "10b5bb3d",
   "metadata": {},
   "outputs": [],
   "source": []
  },
  {
   "cell_type": "code",
   "execution_count": 41,
   "id": "05e7d81b",
   "metadata": {},
   "outputs": [],
   "source": [
    "path='s3://som-aws-bucket-1/vehicle_master.csv'\n",
    "data=pd.read_csv(path, header=None, names=['ID_VEHICLE','REG_NUMBER','NICK_NAME','ID_BRANCH','VEHICLE_TYPE','MAKER','MODEL','PRODUCT_TYPE'])"
   ]
  },
  {
   "cell_type": "code",
   "execution_count": null,
   "id": "db94386e",
   "metadata": {},
   "outputs": [],
   "source": []
  },
  {
   "cell_type": "code",
   "execution_count": 42,
   "id": "b206b2b3",
   "metadata": {},
   "outputs": [
    {
     "data": {
      "text/plain": [
       "pandas.core.frame.DataFrame"
      ]
     },
     "execution_count": 42,
     "metadata": {},
     "output_type": "execute_result"
    }
   ],
   "source": [
    "type(data)"
   ]
  },
  {
   "cell_type": "code",
   "execution_count": 43,
   "id": "96cc7204",
   "metadata": {},
   "outputs": [
    {
     "data": {
      "text/plain": [
       "Index(['ID_VEHICLE', 'REG_NUMBER', 'NICK_NAME', 'ID_BRANCH', 'VEHICLE_TYPE',\n",
       "       'MAKER', 'MODEL', 'PRODUCT_TYPE'],\n",
       "      dtype='object')"
      ]
     },
     "execution_count": 43,
     "metadata": {},
     "output_type": "execute_result"
    }
   ],
   "source": [
    "data.columns"
   ]
  },
  {
   "cell_type": "code",
   "execution_count": 44,
   "id": "ed5477a8",
   "metadata": {},
   "outputs": [
    {
     "data": {
      "text/html": [
       "<div>\n",
       "<style scoped>\n",
       "    .dataframe tbody tr th:only-of-type {\n",
       "        vertical-align: middle;\n",
       "    }\n",
       "\n",
       "    .dataframe tbody tr th {\n",
       "        vertical-align: top;\n",
       "    }\n",
       "\n",
       "    .dataframe thead th {\n",
       "        text-align: right;\n",
       "    }\n",
       "</style>\n",
       "<table border=\"1\" class=\"dataframe\">\n",
       "  <thead>\n",
       "    <tr style=\"text-align: right;\">\n",
       "      <th></th>\n",
       "      <th>ID_VEHICLE</th>\n",
       "      <th>REG_NUMBER</th>\n",
       "      <th>NICK_NAME</th>\n",
       "      <th>ID_BRANCH</th>\n",
       "      <th>VEHICLE_TYPE</th>\n",
       "      <th>MAKER</th>\n",
       "      <th>MODEL</th>\n",
       "      <th>PRODUCT_TYPE</th>\n",
       "    </tr>\n",
       "  </thead>\n",
       "  <tbody>\n",
       "    <tr>\n",
       "      <th>0</th>\n",
       "      <td>343</td>\n",
       "      <td>XYZ 2899</td>\n",
       "      <td>2899</td>\n",
       "      <td>8</td>\n",
       "      <td>RC - Single Axle</td>\n",
       "      <td>TATA</td>\n",
       "      <td>1210</td>\n",
       "      <td>Tanker</td>\n",
       "    </tr>\n",
       "    <tr>\n",
       "      <th>1</th>\n",
       "      <td>330</td>\n",
       "      <td>AB 70 3099</td>\n",
       "      <td>3099</td>\n",
       "      <td>8</td>\n",
       "      <td>AV - Triple Axle(14 Tyres)</td>\n",
       "      <td>AL</td>\n",
       "      <td>3518 IL-18,7,12,8</td>\n",
       "      <td>Tanker</td>\n",
       "    </tr>\n",
       "    <tr>\n",
       "      <th>2</th>\n",
       "      <td>332</td>\n",
       "      <td>AB 70 3499</td>\n",
       "      <td>3499</td>\n",
       "      <td>8</td>\n",
       "      <td>RC - Triple Axle</td>\n",
       "      <td>TATA</td>\n",
       "      <td>3118TC-16,7,10,7</td>\n",
       "      <td>Tanker</td>\n",
       "    </tr>\n",
       "    <tr>\n",
       "      <th>3</th>\n",
       "      <td>331</td>\n",
       "      <td>AB 70 3599</td>\n",
       "      <td>3599</td>\n",
       "      <td>8</td>\n",
       "      <td>RC - Triple Axle</td>\n",
       "      <td>TATA</td>\n",
       "      <td>3118TC-16,7,10,7</td>\n",
       "      <td>Tanker</td>\n",
       "    </tr>\n",
       "    <tr>\n",
       "      <th>4</th>\n",
       "      <td>266</td>\n",
       "      <td>AB 30 A 0599</td>\n",
       "      <td>A 0599</td>\n",
       "      <td>8</td>\n",
       "      <td>RC - Double Axle</td>\n",
       "      <td>AL</td>\n",
       "      <td>2214/1</td>\n",
       "      <td>Tanker</td>\n",
       "    </tr>\n",
       "    <tr>\n",
       "      <th>...</th>\n",
       "      <td>...</td>\n",
       "      <td>...</td>\n",
       "      <td>...</td>\n",
       "      <td>...</td>\n",
       "      <td>...</td>\n",
       "      <td>...</td>\n",
       "      <td>...</td>\n",
       "      <td>...</td>\n",
       "    </tr>\n",
       "    <tr>\n",
       "      <th>170</th>\n",
       "      <td>283</td>\n",
       "      <td>AB 30 P 4699</td>\n",
       "      <td>P 4699</td>\n",
       "      <td>8</td>\n",
       "      <td>RC - Double Axle</td>\n",
       "      <td>TATA</td>\n",
       "      <td>2515 TCIC</td>\n",
       "      <td>Tanker</td>\n",
       "    </tr>\n",
       "    <tr>\n",
       "      <th>171</th>\n",
       "      <td>285</td>\n",
       "      <td>AB 30 P 4799</td>\n",
       "      <td>P 4799</td>\n",
       "      <td>8</td>\n",
       "      <td>RC - Double Axle</td>\n",
       "      <td>TATA</td>\n",
       "      <td>2515 TCIC</td>\n",
       "      <td>Tanker</td>\n",
       "    </tr>\n",
       "    <tr>\n",
       "      <th>172</th>\n",
       "      <td>286</td>\n",
       "      <td>AB 30 P 4899</td>\n",
       "      <td>P 4899</td>\n",
       "      <td>8</td>\n",
       "      <td>RC - Double Axle</td>\n",
       "      <td>TATA</td>\n",
       "      <td>2515 TCIC</td>\n",
       "      <td>Tanker</td>\n",
       "    </tr>\n",
       "    <tr>\n",
       "      <th>173</th>\n",
       "      <td>284</td>\n",
       "      <td>AB 30 P 5899</td>\n",
       "      <td>P 5899</td>\n",
       "      <td>8</td>\n",
       "      <td>RC - Double Axle</td>\n",
       "      <td>TATA</td>\n",
       "      <td>2515 TCIC</td>\n",
       "      <td>Tanker</td>\n",
       "    </tr>\n",
       "    <tr>\n",
       "      <th>174</th>\n",
       "      <td>294</td>\n",
       "      <td>CD 9U 299</td>\n",
       "      <td>U 299</td>\n",
       "      <td>8</td>\n",
       "      <td>AV - Triple Axle(14 Tyres)</td>\n",
       "      <td>AL</td>\n",
       "      <td>3516/Hino-10,7,12,8</td>\n",
       "      <td>LPG</td>\n",
       "    </tr>\n",
       "  </tbody>\n",
       "</table>\n",
       "<p>175 rows × 8 columns</p>\n",
       "</div>"
      ],
      "text/plain": [
       "     ID_VEHICLE     REG_NUMBER NICK_NAME  ID_BRANCH  \\\n",
       "0           343       XYZ 2899      2899          8   \n",
       "1           330     AB 70 3099      3099          8   \n",
       "2           332     AB 70 3499      3499          8   \n",
       "3           331     AB 70 3599      3599          8   \n",
       "4           266   AB 30 A 0599    A 0599          8   \n",
       "..          ...            ...       ...        ...   \n",
       "170         283   AB 30 P 4699    P 4699          8   \n",
       "171         285   AB 30 P 4799    P 4799          8   \n",
       "172         286   AB 30 P 4899    P 4899          8   \n",
       "173         284  AB 30 P 5899     P 5899          8   \n",
       "174         294      CD 9U 299     U 299          8   \n",
       "\n",
       "                   VEHICLE_TYPE MAKER                MODEL PRODUCT_TYPE  \n",
       "0              RC - Single Axle  TATA                 1210       Tanker  \n",
       "1    AV - Triple Axle(14 Tyres)    AL    3518 IL-18,7,12,8       Tanker  \n",
       "2              RC - Triple Axle  TATA     3118TC-16,7,10,7       Tanker  \n",
       "3              RC - Triple Axle  TATA     3118TC-16,7,10,7       Tanker  \n",
       "4              RC - Double Axle    AL               2214/1       Tanker  \n",
       "..                          ...   ...                  ...          ...  \n",
       "170            RC - Double Axle  TATA            2515 TCIC       Tanker  \n",
       "171            RC - Double Axle  TATA            2515 TCIC       Tanker  \n",
       "172            RC - Double Axle  TATA            2515 TCIC       Tanker  \n",
       "173            RC - Double Axle  TATA            2515 TCIC       Tanker  \n",
       "174  AV - Triple Axle(14 Tyres)    AL  3516/Hino-10,7,12,8          LPG  \n",
       "\n",
       "[175 rows x 8 columns]"
      ]
     },
     "execution_count": 44,
     "metadata": {},
     "output_type": "execute_result"
    }
   ],
   "source": [
    "data"
   ]
  },
  {
   "cell_type": "code",
   "execution_count": 45,
   "id": "b76fe840",
   "metadata": {},
   "outputs": [
    {
     "data": {
      "text/plain": [
       "True"
      ]
     },
     "execution_count": 45,
     "metadata": {},
     "output_type": "execute_result"
    }
   ],
   "source": [
    "for (row,column) in data.iterrows():\n",
    "    query=\" insert into vehicle_master (ID_VEHICLE,REG_NUMBER,NICK_NAME,ID_BRANCH,VEHICLE_TYPE,MAKER,MODEL,PRODUCT_TYPE) values (%s,%s,%s,%s,%s,%s,%s,%s) \"\n",
    "    \n",
    "    vid_data=column[0]\n",
    "    rn_data=str(column[1])\n",
    "    nn_data=str(column[2])\n",
    "    bid_data=column[3]\n",
    "    vt_data=str(column[4])\n",
    "    mkr_data=str(column[5])\n",
    "    mdl_data=str(column[6])\n",
    "    pt_data=str(column[7])\n",
    "    record=(vid_data,rn_data,nn_data,bid_data,vt_data,mkr_data,mdl_data,pt_data)\n",
    "    cursor.execute(query,record)\n",
    "con.commit()\n",
    "cursor.close()"
   ]
  },
  {
   "cell_type": "code",
   "execution_count": null,
   "id": "3d5ded07",
   "metadata": {},
   "outputs": [],
   "source": []
  },
  {
   "cell_type": "code",
   "execution_count": null,
   "id": "1d06db7d",
   "metadata": {},
   "outputs": [],
   "source": []
  },
  {
   "cell_type": "code",
   "execution_count": null,
   "id": "8bb4d269",
   "metadata": {},
   "outputs": [],
   "source": []
  },
  {
   "cell_type": "code",
   "execution_count": 46,
   "id": "83633d46",
   "metadata": {},
   "outputs": [],
   "source": [
    "con=mysql.connector.connect(host='localhost',database='test',user='root',password='root')\n",
    "cursor=con.cursor()"
   ]
  },
  {
   "cell_type": "code",
   "execution_count": 47,
   "id": "b7cf385e",
   "metadata": {},
   "outputs": [],
   "source": [
    "cursor.execute(\"select * from vehicle_master\")"
   ]
  },
  {
   "cell_type": "code",
   "execution_count": 48,
   "id": "e03c9b26",
   "metadata": {},
   "outputs": [],
   "source": [
    "tdata=cursor.fetchall()"
   ]
  },
  {
   "cell_type": "code",
   "execution_count": 49,
   "id": "37f8669f",
   "metadata": {},
   "outputs": [
    {
     "name": "stdout",
     "output_type": "stream",
     "text": [
      "(201, 'AB 30 J 3799', 'J 3799', 8, 'RC - Double Axle', 'AL', '2214/1S-10,7,10,4', 'Tanker')\n",
      "(205, 'AB 30 AC 1599', 'AC 1599', 8, 'AV - Triple Axle(14 Tyres)', 'AL', '3516/412-15,7,10,8', 'Tanker')\n",
      "(208, 'AB 30 AB 1399', 'AB 1399', 8, 'AV - Triple Axle(14 Tyres)', 'AL', '3516/Hino-10,7,12,8', 'Tanker')\n",
      "(210, 'AB 30 AA 6999', 'AA 6999', 8, 'AV - Triple Axle(14 Tyres)', 'AL', '3516/Hino-10,7,12,8', 'Tanker')\n",
      "(213, 'AB 30 AB 1499', 'AB 1499', 8, 'AV - Triple Axle(14 Tyres)', 'TATA', '3516TC-16,7,10,8', 'Tanker')\n",
      "(214, 'AB 30AB 1599', 'AB 1599', 8, 'AV - Triple Axle(14 Tyres)', 'TATA', '3516TC-16,7,10,8', 'Tanker')\n",
      "(215, 'AB 30 AH 4899', 'AH 4899', 8, 'RC - Double Axle', 'TATA', '2515TC', 'Tanker')\n",
      "(217, 'AB 30E 4999', 'E 4999', 8, 'RC - Double Axle', 'AL', '2214/1S-10,7,10,4', 'Tanker')\n",
      "(218, 'AB 30 E 5799.', 'E 5799.', 8, 'RC - Double Axle', 'AL', '2214/1S-10,7,10,4', 'Tanker')\n",
      "(219, 'AB 30B 6999', 'B 6999', 8, 'RC - Double Axle', 'AL', '2214/1S-10,7,10,4', 'Tanker')\n",
      "(220, 'AB 30 AB 1699', 'AB 1699', 8, 'AV - Triple Axle(14 Tyres)', 'TATA', '3516TC-16,7,10,8', 'Tanker')\n",
      "(222, 'AB 30 AA 6899', 'AA 6899', 8, 'AV - Triple Axle(14 Tyres)', 'TATA', '3516TC-16,7,10,8', 'Tanker')\n",
      "(223, 'AB 30 AF 4799', 'AF 4799', 8, 'RC - Double Axle', 'AL', '2214/1', 'Tanker')\n",
      "(224, 'AB 30 AF 6799 ', 'AF 6799', 8, 'RC - Double Axle', 'TATA', '2515TC', 'Tanker')\n",
      "(225, 'AB 30L 2499', 'L 2499', 8, 'RC - Double Axle', 'TATA', '2515 TCIC', 'Tanker')\n",
      "(226, 'AB 30 BA 0499', 'BA 0499', 8, 'AV - Triple Axle(14 Tyres)', 'AL', '3516/412-15,7,10,8', 'Tanker')\n",
      "(229, 'AB 30AH 0004', 'AH 0004(AP 0409)', 8, 'AV - Triple Axle(14 Tyres)', 'AL', '3516/Hino-10,7,12,8', 'Tanker')\n",
      "(233, 'AB 30 E 5899', 'E 5899', 8, 'RC - Double Axle', 'AL', '2214/1S-10,7,10,4', 'Tanker')\n",
      "(234, 'AB 30 L 2399', 'L 2399', 8, 'RC - Double Axle', 'AL', '2214/1S-10,7,10,4', 'Tanker')\n",
      "(235, 'AB 27M 7899', 'M 7899', 8, 'RC - Double Axle', 'AL', '2214/1', 'Tanker')\n",
      "(236, 'AB 30 D 16990', 'D 16990', 8, 'RC - Double Axle', 'AL', '2214/1S-10,7,10,4', 'Tanker')\n",
      "(237, 'AB 30 B 6899', 'B 6899', 8, 'RC - Double Axle', 'AL', '2214/1S-10,7,10,4', 'Tanker')\n",
      "(238, 'AB 30 B 6799', 'B 6799', 8, 'RC - Double Axle', 'AL', '2214/1S-10,7,10,4', 'Tanker')\n",
      "(241, 'AB 30 AT 6160', 'AT 6160', 8, 'RC - Double Axle', 'AL', '2214/1S-10,7,10,4', 'Tanker')\n",
      "(242, 'AB 30 E 0499', 'E 0499', 8, 'RC - Double Axle', 'AL', '2214/1S-10,7,10,4', 'Tanker')\n",
      "(244, 'AB 30 H 1499', 'H 1499', 8, 'RC - Double Axle', 'AL', '2214/1S-10,7,10,4', 'Tanker')\n",
      "(245, 'AB 30 F 1899', 'F 1899', 8, 'RC - Double Axle', 'AL', '2214/1S-10,7,10,4', 'Tanker')\n",
      "(246, 'AB 30 J 3699', 'J 3699', 8, 'RC - Double Axle', 'AL', '2214/1S-10,7,10,4', 'Tanker')\n",
      "(248, 'AB 30J 2799', 'J 2799', 8, 'RC - Double Axle', 'TATA', '2515 TCIC', 'Tanker')\n",
      "(255, 'AB 30 AA 3399', 'AA 3399', 8, 'RC - Double Axle', 'TATA', '2515 TCIC', 'Tanker')\n",
      "(256, 'AB 30 AB 1299', 'AB 1299', 8, 'AV - Triple Axle(14 Tyres)', 'AL', '3516/Hino-10,7,12,8', 'Tanker')\n",
      "(257, 'AB 30 AA 2299', 'AA 2299', 8, 'RC - Double Axle', 'TATA', '2515 TCIC', 'Tanker')\n",
      "(258, 'AB 30 AA 2499', 'AA 2499', 8, 'RC - Double Axle', 'TATA', '2515 TCIC', 'Tanker')\n",
      "(259, 'AB 30 AA 2399', 'AA 2399', 8, 'RC - Double Axle', 'TATA', '2515 TCIC', 'Tanker')\n",
      "(260, 'AB 30 AA 0099', 'AA 0099', 8, 'AV - Triple Axle(14 Tyres)', 'TATA', '3516TC-16,7,10,8', 'Tanker')\n",
      "(261, 'AB 30 E 0799', 'E 0799', 8, 'RC - Double Axle', 'AL', '2214/1S-10,7,10,4', 'Tanker')\n",
      "(262, 'AB 30 D 1599', 'D 1599', 8, 'RC - Double Axle', 'AL', '2214/1S-10,7,10,4', 'Tanker')\n",
      "(264, 'AB 30AD 2299', 'AD 2299', 8, 'RC - Double Axle', 'AL', '2214/1S-10,7,10,4', 'Tanker')\n",
      "(265, 'AB 30L 6899', 'L 6899', 8, 'AV - Triple Axle(14 Tyres)', 'AL', '3516/Hino-10,7,12,8', 'Tanker')\n",
      "(266, 'AB 30 A 0599', 'A 0599', 8, 'RC - Double Axle', 'AL', '2214/1', 'Tanker')\n",
      "(267, 'AB 30AJ 0367', 'AJ 0367(AP 337)', 8, 'AV - Triple Axle(14 Tyres)', 'AL', '3516/Hino-10,7,12,8', 'Tanker')\n",
      "(268, 'AB 30AD 2399', 'AD 2399', 8, 'RC - Double Axle', 'AL', '2214/1', 'Tanker')\n",
      "(269, 'AB 30E 4699', 'E 4699', 8, 'RC - Double Axle', 'AL', '2516/1T', 'Tanker')\n",
      "(271, 'AB 30 L 3999', 'L 3999', 8, 'RC - Double Axle', 'TATA', '2515 TCIC', 'Tanker')\n",
      "(276, 'AB 30J 2399 ', 'J 2399', 8, 'RC - Double Axle', 'TATA', '2515 TCIC', 'Tanker')\n",
      "(277, 'AB 30 F 1399', 'F 1399', 8, 'RC - Double Axle', 'AL', '2214/1S-10,7,10,4', 'Tanker')\n",
      "(278, 'AB 30 AC 7899', 'AC 7899', 8, 'AV - Triple Axle(14 Tyres)', 'TATA', '3516TC-16,7,10,8', 'Tanker')\n",
      "(279, 'AB 30E 4899', 'E 4899', 8, 'RC - Double Axle', 'AL', '2214/1S-10,7,10,4', 'Tanker')\n",
      "(280, 'AB 30E 0299', 'E 0299', 8, 'RC - Double Axle', 'AL', '2214/1S-10,7,10,4', 'Tanker')\n",
      "(281, 'AB 30 E 0699', 'E 0699', 8, 'RC - Double Axle', 'AL', '2214/1S-10,7,10,4', 'Tanker')\n",
      "(282, 'AB 30B 5699', 'B 5699', 8, 'RC - Double Axle', 'AL', '2214/1S-10,7,10,4', 'Tanker')\n",
      "(283, 'AB 30 P 4699', 'P 4699', 8, 'RC - Double Axle', 'TATA', '2515 TCIC', 'Tanker')\n",
      "(284, 'AB 30 P 5899 ', 'P 5899', 8, 'RC - Double Axle', 'TATA', '2515 TCIC', 'Tanker')\n",
      "(285, 'AB 30 P 4799', 'P 4799', 8, 'RC - Double Axle', 'TATA', '2515 TCIC', 'Tanker')\n",
      "(286, 'AB 30 P 4899', 'P 4899', 8, 'RC - Double Axle', 'TATA', '2515 TCIC', 'Tanker')\n",
      "(287, 'AB 30 BA 1299', 'BA 1299', 8, 'AV - Triple Axle(14 Tyres)', 'AL', '3516/Hino-10,7,12,8', 'Tanker')\n",
      "(288, 'AB 27 D 4599', 'D 4599', 8, 'RC - Single Axle', 'TATA', '1210', 'Tanker')\n",
      "(290, 'AB 30A 0699', 'A 0699', 8, 'RC - Double Axle', 'TATA', '2213', 'Tanker')\n",
      "(291, 'AB 30AE 3699', 'AE 3699', 8, 'AV - Triple Axle(14 Tyres)', 'AL', '3516/Hino-10,7,12,8', 'Tanker')\n",
      "(292, 'AB 30 AB 1899', 'AB 1899', 8, 'AV - Triple Axle(14 Tyres)', 'AL', '3516/Hino-10,7,12,8', 'Tanker')\n",
      "(293, 'AB 30 BA 1899', 'BA 1899', 8, 'AV - Triple Axle(14 Tyres)', 'AL', '3516/412-15,7,10,8', 'Tanker')\n",
      "(294, 'CD 9U 299', 'U 299', 8, 'AV - Triple Axle(14 Tyres)', 'AL', '3516/Hino-10,7,12,8', 'LPG')\n",
      "(295, 'BC 01A 5899', 'KA 5899', 8, 'AV - Triple Axle(14 Tyres)', 'AL', '3516/Hino-10,7,12,8', 'LPG')\n",
      "(296, 'AB 30 BA 1799', 'BA 1799', 8, 'AV - Triple Axle(14 Tyres)', 'AL', '3516/412-15,7,10,8', 'Tanker')\n",
      "(297, 'AB 30 AB 0499', 'AB 0499', 8, 'AV - Triple Axle(14 Tyres)', 'AL', '3516/Hino-10,7,12,8', 'LPG')\n",
      "(298, 'AB 27 C 6799', 'C 6799', 8, 'RC - Single Axle', 'nan', 'nan', 'nan')\n",
      "(299, 'DE 02D 2899', 'NL 2899', 8, 'RC - Double Axle', 'TATA', '2515TC', 'Tanker')\n",
      "(300, 'DE 02D 2999', 'NL 2999', 8, 'RC - Double Axle', 'TATA', '2515TC', 'Tanker')\n",
      "(330, 'AB 70 3099', '3099', 8, 'AV - Triple Axle(14 Tyres)', 'AL', '3518 IL-18,7,12,8', 'Tanker')\n",
      "(331, 'AB 70 3599', '3599', 8, 'RC - Triple Axle', 'TATA', '3118TC-16,7,10,7', 'Tanker')\n",
      "(332, 'AB 70 3499', '3499', 8, 'RC - Triple Axle', 'TATA', '3118TC-16,7,10,7', 'Tanker')\n",
      "(337, 'AB 30 AD 7899', 'AD 7899', 8, 'Four Wheeler', 'TATA', 'Magic', 'Four Wheeler')\n",
      "(343, 'XYZ 2899', '2899', 8, 'RC - Single Axle', 'TATA', '1210', 'Tanker')\n",
      "(384, 'AB 27C 2399', 'C 2399', 8, 'Four Wheeler', 'AL', '1612', 'nan')\n",
      "(389, 'AB 30 AJ 4099', 'AJ 4099', 8, 'AV - Triple Axle(14 Tyres)', 'AL', '3516/Hino-10,7,12,8', 'LPG')\n",
      "(390, 'AB 30 AJ 3799', 'AJ 3799', 8, 'AV - Triple Axle(14 Tyres)', 'AL', '3516/Hino-10,7,12,8', 'LPG')\n",
      "(394, 'AB 30 AF 99', 'AF 99', 8, 'Four Wheeler', 'nan', 'nan', 'Four Wheeler')\n",
      "(413, 'AB 30 AK 5799', 'AK 5799', 8, 'AV - Triple Axle(14 Tyres)', 'AL', '3518 IL-18,7,12,8', 'LPG')\n",
      "(414, 'AB 30 AK 5899', 'AK 5899', 8, 'AV - Triple Axle(14 Tyres)', 'AL', '3518 IL-18,7,12,8', 'LPG')\n",
      "(426, 'AB 30 AP 4599', 'AP 4599', 8, 'AV - Triple Axle(14 Tyres)', 'AL', '3518 IL-18,7,12,8', 'Tanker')\n",
      "(427, 'AB 54 E 2899', 'E 2899', 8, 'AV - Triple Axle(14 Tyres)', 'AL', '3518 IL-18,7,12,8', 'Tanker')\n",
      "(428, 'AB 30 AQ 1399', 'AQ 1399', 8, 'Four Wheeler', 'M & M', 'Maxximo BS3', 'Four Wheeler')\n",
      "(430, 'AB 30 AQ 5999', 'AQ 5999', 8, 'RC - Double Axle', 'AL', '2516 IL', 'Tanker')\n",
      "(431, 'AB 30 AQ 4599', 'AQ 4599', 8, 'RC - Double Axle', 'AL', '2516 IL', 'Tanker')\n",
      "(433, 'AB 30 AQ 0099', 'AQ 0099', 8, 'AV - Triple Axle(14 Tyres)', 'AL', '3518 IL-18,7,12,8', 'Tanker')\n",
      "(435, 'AB 30 AR 2799', 'AR 2799 ', 8, 'RC - Double Axle', 'AL', '2516 IL', 'Tanker')\n",
      "(436, 'AB 30 AR 2699', 'AR 2699', 8, 'RC - Double Axle', 'AL', '2516 IL', 'Tanker')\n",
      "(453, 'AB 30 AS 2599', 'AS 2599', 8, 'RC - Double Axle', 'AL', '2516 IL TS-16,7,10,5', 'Tanker')\n",
      "(455, 'AB 30 AS 2699', 'AS 2699', 8, 'RC - Double Axle', 'AL', '2516 IL TS-16,7,10,5', 'Tanker')\n",
      "(458, 'AB 30 AT 0199', 'AT 0199', 8, 'RC - Double Axle', 'AL', '2516 IL TS-16,7,10,5', 'Tanker')\n",
      "(459, 'AB 30 AT 0299', 'AT 0299', 8, 'RC - Double Axle', 'AL', '2516 IL TS-16,7,10,5', 'Tanker')\n",
      "(460, 'AB 30 AT 0499', 'AT 0499', 8, 'AV - Triple Axle(14 Tyres)', 'AL', '3518 IL-18,7,12,8', 'Tanker')\n",
      "(463, 'AB 30 AT 4799', 'AT 4799', 8, 'RC - Triple Axle', 'AL', '3116 IL TS', 'Tanker')\n",
      "(464, 'BC 51 B 4899', 'KA 4899', 8, 'RC - Double Axle', 'AL', '2516 IL TS-16,7,10,5', 'Tanker')\n",
      "(465, 'AB 30 AT 5699', 'AT 5699', 8, 'RC - Triple Axle', 'AL', '3118 IL TS 18,7.12,8', 'Tanker')\n",
      "(466, 'BC 51 B 4499', 'KA 4499', 8, 'RC - Double Axle', 'AL', '2516 IL TS-16,7,10,5', 'Tanker')\n",
      "(488, 'AB 30 AU 2699', 'AU 2699', 8, 'RC - Triple Axle', 'BHARAT BENZ', '3123 Rigid (8x2)', 'Tanker')\n",
      "(489, 'AB 30 AU 4499', 'AU 4499', 8, 'AV - Triple Axle(14 Tyres)', 'AL', '3518 IL-18,7,12,8', 'Tanker')\n",
      "(490, 'AB 30 AU 4999', 'AU 4999', 8, 'AV - Triple Axle(14 Tyres)', 'AL', '3518 IL-18,7,12,8', 'Tanker')\n",
      "(509, 'BC 19 AA 5799', 'KA 5799', 8, 'RC - Triple Axle', 'BHARAT BENZ', '3123 Rigid (8x2)', 'Tanker')\n",
      "(510, 'BC 19 AA 5899', 'KA 5899', 8, 'RC - Triple Axle', 'BHARAT BENZ', '3123 Rigid (8x2)-TL', 'Tanker')\n",
      "(511, 'AB 30 BA 8999', 'BA 8999', 8, 'RC - Triple Axle', 'BHARAT BENZ', '3123 Rigid (8x2)', 'Tanker')\n",
      "(519, 'BC 51 C 3399', 'KA 3399', 8, 'RC - Triple Axle', 'BHARAT BENZ', '3123 Rigid (8x2)', 'Tanker')\n",
      "(520, 'BC 51 C 6699', 'KA 6699', 8, 'RC - Triple Axle', 'BHARAT BENZ', '3123 Rigid (8x2)', 'Tanker')\n",
      "(521, 'BC 51 C 7999', 'KA 7999', 8, 'RC - Triple Axle', 'BHARAT BENZ', '3123 Rigid (8x2)', 'Tanker')\n",
      "(522, 'BC 51 C 7899', 'KA 7899', 8, 'RC - Triple Axle', 'BHARAT BENZ', '3123 Rigid (8x2)', 'Tanker')\n",
      "(524, 'BC 51 C 2499', 'KA 2499', 8, 'RC - Triple Axle', 'BHARAT BENZ', '3123 Rigid (8x2)-TL', 'Tanker')\n",
      "(525, 'BC 51 C 2999', 'KA 2999', 8, 'RC - Triple Axle', 'BHARAT BENZ', '3123 Rigid (8x2)', 'Tanker')\n",
      "(526, 'BC 51 C 3499', 'KA 3499', 8, 'RC - Triple Axle', 'BHARAT BENZ', '3123 Rigid (8x2)', 'Tanker')\n",
      "(527, 'BC 51 C 3899', 'KA 3899', 8, 'RC - Triple Axle', 'BHARAT BENZ', '3123 Rigid (8x2)', 'Tanker')\n",
      "(528, 'BC 51 C 3999', 'KA 3999', 8, 'RC - Triple Axle', 'BHARAT BENZ', '3123 Rigid (8x2)', 'Tanker')\n",
      "(530, 'BC 51 C 5799', 'KA 5799-51C', 8, 'RC - Triple Axle', 'BHARAT BENZ', '3123 Rigid (8x2)', 'Tanker')\n",
      "(531, 'BC 51 C 5699', 'KA 5699', 8, 'RC - Triple Axle', 'BHARAT BENZ', '3123 Rigid (8x2)-TL', 'Tanker')\n",
      "(532, 'BC 51 C 4799', 'KA 4799', 8, 'RC - Triple Axle', 'BHARAT BENZ', '3123 Rigid (8x2)', 'Tanker')\n",
      "(533, 'BC 51 C 4899', 'KA 4899 (24)', 8, 'RC - Triple Axle', 'BHARAT BENZ', '3123 Rigid (8x2)-TL', 'Tanker')\n",
      "(552, 'AB 30 BC 2299', 'BC 2299', 8, 'RC - Triple axle -ML(14 Tyres)', 'M. Navinstar', 'Truxo 37-20,9,15,9', 'Tanker')\n",
      "(555, 'AB 30 BC 2599', 'BC 2599', 8, 'RC - Triple axle -ML(14 Tyres)', 'M. Navinstar', 'Truxo 37-20,9,15,9', 'Tanker')\n",
      "(557, 'BC 01 AE 4499', 'AE 4499', 8, 'RC - Triple Axle', 'BHARAT BENZ', '3123 Rigid (8x2)-TL', 'Tanker')\n",
      "(558, 'BC 01 AE 8999', 'AE 8999', 8, 'RC - Triple Axle', 'BHARAT BENZ', '3123 Rigid (8x2)-TL', 'Tanker')\n",
      "(563, 'BC 01 AE 5699', 'AE 5699', 8, 'RC - Triple Axle', 'BHARAT BENZ', '3123 Rigid (8x2)-TL', 'Tanker')\n",
      "(564, 'BC 01 AE 3469', 'AE 3469', 8, 'RC - Triple Axle', 'BHARAT BENZ', '3123 Rigid (8x2)-TL', 'Tanker')\n",
      "(565, 'BC 01 AE 2699', 'AE 2699', 8, 'RC - Triple Axle', 'BHARAT BENZ', '3123 Rigid (8x2)-TL', 'Tanker')\n",
      "(569, 'AB 30BC 6799', 'BC 6799', 8, 'RC - Triple Axle', 'BHARAT BENZ', '3123 Rigid (8x2)-TL', 'Tanker')\n",
      "(570, 'BC 01 AE 4679', 'AE 4679', 8, 'RC - Triple Axle', 'BHARAT BENZ', '3123 Rigid (8x2)-TL', 'Tanker')\n",
      "(571, 'BC 51 C 7779', 'KA 7779', 8, 'RC - Triple Axle', 'BHARAT BENZ', '3123 Rigid (8x2)-TL', 'Tanker')\n",
      "(572, 'BC 51 C 8889', 'KA 8889', 8, 'RC - Triple Axle', 'BHARAT BENZ', '3123 Rigid (8x2)-TL', 'Tanker')\n",
      "(573, 'BC 51 C 6689', 'KA 6689', 8, 'RC - Triple Axle', 'BHARAT BENZ', '3123 Rigid (8x2)-TL', 'Tanker')\n",
      "(574, 'BC 01 AE 6689', 'AE 6689', 8, 'RC - Triple Axle', 'BHARAT BENZ', '3123 Rigid (8x2)-TL', 'Tanker')\n",
      "(575, 'BC 05 AF 2899', 'AF 2899', 8, 'RC - Triple Axle', 'BHARAT BENZ', '3123 Rigid (8x2)-TL', 'Tanker')\n",
      "(576, 'BC 05 AF 2999', 'AF 2999', 8, 'RC - Triple Axle', 'BHARAT BENZ', '3123 Rigid (8x2)-TL', 'Tanker')\n",
      "(577, 'AB 30 BD 0699', 'BD 0699', 8, 'RC - Triple Axle', 'BHARAT BENZ', '3123 Rigid (8x2)-TL', 'Tanker')\n",
      "(578, 'AB 30 BD 0599', 'BD 0599', 8, 'RC - Triple Axle', 'BHARAT BENZ', '3123 Rigid (8x2)-TL', 'Tanker')\n",
      "(579, 'AB 30 BD 6899', 'BD 6899', 8, 'RC - Triple Axle', 'BHARAT BENZ', '3123 Rigid (8x2)', 'Tanker')\n",
      "(580, 'AB 30 BD 7899', 'BD 7899', 8, 'RC - Triple Axle', 'BHARAT BENZ', '3123 Rigid (8x2)', 'Tanker')\n",
      "(581, 'AB 30 BD 7689', 'BD 7689', 8, 'RC - Triple Axle', 'BHARAT BENZ', '3123 Rigid (8x2)', 'Tanker')\n",
      "(582, 'BC 51 D 5599', 'KA 5599', 8, 'RC - Triple Axle', 'BHARAT BENZ', '3123 Rigid (8x2)', 'Tanker')\n",
      "(583, 'BC 51 D 6899', 'KA 6899', 8, 'RC - Triple Axle', 'BHARAT BENZ', '3123 Rigid (8x2)', 'Tanker')\n",
      "(584, 'BC 51 D 6999', 'KA 6999', 8, 'RC - Triple Axle', 'BHARAT BENZ', '3123 Rigid (8x2)', 'Tanker')\n",
      "(585, 'AB 30 BE 0499', 'BE 0499', 8, 'AV - Triple Axle(14 Tyres)', 'AL', '3518/TT-18,7,12,8', 'Tanker')\n",
      "(586, 'BC 51 D 2899', 'KA 2899', 8, 'RC - Triple Axle', 'BHARAT BENZ', '3123 Rigid (8x2)-TL', 'Tanker')\n",
      "(587, 'BC 51 D 3399', 'D 3399', 8, 'RC - Triple Axle', 'BHARAT BENZ', '3123 Rigid (8x2)', 'Tanker')\n",
      "(588, 'BC 51 D 4499', 'KA 4499(51D)', 8, 'RC - Triple Axle', 'BHARAT BENZ', '3123 Rigid (8x2)', 'Tanker')\n",
      "(589, 'AB 30 BE 1499', 'BE 1499', 8, 'AV - Triple Axle(14 Tyres)', 'AL', '3518/TT-18,7,12,8', 'Tanker')\n",
      "(590, 'AB 30 BE 4999', 'BE 4999', 8, 'AV - Triple Axle(14 Tyres)', 'AL', '3518/TT-18,7,12,8', 'Tanker')\n",
      "(591, 'BC 01 AG 5689', 'AG 5689', 8, 'RC - Triple axle -ML(14 Tyres)', 'M. Navinstar', 'Truxo 37-20,9,15,9', 'Tanker')\n",
      "(592, 'BC 01 AG 5899', 'AG 5899', 8, 'RC - Triple axle -ML(14 Tyres)', 'BHARAT BENZ', '3723 Regid (10x2)', 'Tanker')\n",
      "(595, 'BC 51 AA 3999', 'KA 3999', 8, 'AV - Triple Axle(14 Tyres)', 'AL', '3518/TT-18,7,12,8', 'LPG')\n",
      "(596, 'BC 51 AA 4999', 'KA 4999', 8, 'AV - Triple Axle(14 Tyres)', 'AL', '3518/TT-18,7,12,8', 'LPG')\n",
      "(597, 'BC 51 AA 3599', 'KA 3599', 8, 'RC - Triple axle -ML(14 Tyres)', 'BHARAT BENZ', '3723 Regid (10x2)-TL', 'nan')\n",
      "(599, 'AB 30 BH 3899', 'BH 3899', 8, 'RC - Four Axle(14 Tyres)', 'BHARAT BENZ', '3723 Regid (10x2)', 'Tanker')\n",
      "(600, 'AB 30 BH 4499', 'BH 4499', 8, 'RC - Four Axle(14 Tyres)', 'BHARAT BENZ', '3723 Regid (10x2)', 'Tanker')\n",
      "(601, 'AB 30 BH 8999', 'BH 8999', 8, 'RC - Four Axle(14 Tyres)', 'BHARAT BENZ', '3723 Regid (10x2)', 'Tanker')\n",
      "(602, 'AB 30 BH 8461', 'BH 8461', 8, 'RC - Four Axle(14 Tyres)', 'BHARAT BENZ', '3723 Regid (10x2)', 'Tanker')\n",
      "(603, 'AB 30 BH 9651', 'BH 9651', 8, 'RC - Four Axle(14 Tyres)', 'BHARAT BENZ', '3723 Regid (10x2)', 'Tanker')\n",
      "(604, 'BC 01 AH 2050', 'KA 2050', 8, 'AV - Triple Axle(14 Tyres)', 'AL', '3518/TT-18,7,12,8', 'LPG')\n",
      "(605, 'AB 30 BJ 1399', 'BJ 1399', 8, 'Four Wheeler', 'nan', 'nan', 'Four Wheeler')\n",
      "(606, 'AB 30 BM 3924', 'BM 3924', 8, 'AV - Triple Axle(14 Tyres)', 'AL', '3518/TT-18,7,12,8', 'Tanker')\n",
      "(608, 'AB 30 AA 2063', 'AA 2063', 8, 'AV - Triple Axle(14 Tyres)', 'AL', '3516/412-15,7,10,8', 'Tanker')\n",
      "(1610, 'AB 52 H 9373', 'H 9373', 8, 'RC - Four Axle(14 Tyres)', 'AL', 'AL3718 IL-18,10,14,8', 'Tanker')\n",
      "(1611, 'AB 52 J 1388', 'J 1388', 8, 'RC - Four Axle(14 Tyres)', 'AL', 'AL3718 IL-18,10,14,8', 'Tanker')\n",
      "(1613, 'Genset', 'Genset', 8, 'Dozer', 'nan', 'nan', 'nan')\n",
      "(1614, 'AB 30 BS 5555', 'BS 5555', 8, 'Four Wheeler', 'nan', 'nan', 'Four Wheeler')\n",
      "(1623, 'AB 30 BM 6706', 'BM 6706', 8, 'RC - Triple Axle', 'AL', '3518/TT-18,7,12,8', 'Tanker')\n",
      "(1624, 'AB 30 BM 6795', 'BM 6795', 8, 'RC - Triple Axle', 'AL', '3518/TT-18,7,12,8', 'Tanker')\n",
      "(1626, 'DE 01 AD 7575', 'NL 7575', 8, 'AV - Triple Axle(14 Tyres)', 'AL', '3518/TT-18,7,12,8', 'Tanker')\n",
      "(1627, 'DE 01 AD 7498', 'NL 7498', 8, 'AV - Triple Axle(14 Tyres)', 'TATA', '3518.S CR BS-IV', 'Tanker')\n",
      "(1628, 'DE 01 AD 7496', 'NL 7496', 8, 'AV - Triple Axle(14 Tyres)', 'TATA', '3518.S CR BS-IV', 'Tanker')\n",
      "(1629, 'DE 01 AD 7499', 'NL 7499', 8, 'AV - Triple Axle(14 Tyres)', 'TATA', '3518.S CR BS-IV', 'Tanker')\n",
      "(1630, 'DE 01 AD 7497', 'NL 7497', 8, 'AV - Triple Axle(14 Tyres)', 'AL', '3518/TT-18,7,12,8', 'Tanker')\n",
      "(1635, 'AB 30 BQ 2189', 'BQ 2189', 8, 'RC - Four Axle(14 Tyres)', 'MAHINDRA BLAZO X 42', 'MTB BLAZO42 6E1B4', 'Tanker')\n",
      "(1636, 'AB 30 BQ 2110', 'BQ 2110', 8, 'RC - Four Axle(14 Tyres)', 'MAHINDRA BLAZO X 42', 'MTB BLAZO42 6E1B4', 'Tanker')\n",
      "(1637, 'AB 30 BQ 5087', 'BQ 5087', 8, 'RC - Four Axle(14 Tyres)', 'MAHINDRA BLAZO X 42', 'MTB BLAZO42 6E1B4', 'Tanker')\n",
      "(1638, 'AB 30 BQ 5204', 'BQ 5204', 8, 'RC - Four Axle(14 Tyres)', 'MAHINDRA BLAZO X 42', 'MTB BLAZO42 6E1B4', 'Tanker')\n",
      "(1639, 'AB 30 BQ 5440', 'BQ 5440', 8, 'RC - Four Axle(14 Tyres)', 'AL', '4218 BS IV', 'Tanker')\n",
      "(1642, 'AB 30 BQ 5575', 'BQ 5575', 8, 'RC - Four Axle(14 Tyres)', 'AL', '4218 BS IV', 'Tanker')\n"
     ]
    }
   ],
   "source": [
    "for row in tdata:\n",
    "    print(row)"
   ]
  },
  {
   "cell_type": "code",
   "execution_count": null,
   "id": "619074b8",
   "metadata": {},
   "outputs": [],
   "source": []
  },
  {
   "cell_type": "code",
   "execution_count": null,
   "id": "63771db2",
   "metadata": {},
   "outputs": [],
   "source": []
  },
  {
   "cell_type": "code",
   "execution_count": null,
   "id": "7e9a2654",
   "metadata": {},
   "outputs": [],
   "source": []
  },
  {
   "cell_type": "code",
   "execution_count": null,
   "id": "a07ba7e1",
   "metadata": {},
   "outputs": [],
   "source": []
  },
  {
   "cell_type": "code",
   "execution_count": null,
   "id": "1512750a",
   "metadata": {},
   "outputs": [],
   "source": []
  },
  {
   "cell_type": "code",
   "execution_count": null,
   "id": "358cc10a",
   "metadata": {},
   "outputs": [],
   "source": []
  },
  {
   "cell_type": "code",
   "execution_count": null,
   "id": "70d80eff",
   "metadata": {},
   "outputs": [],
   "source": []
  },
  {
   "cell_type": "code",
   "execution_count": null,
   "id": "8e00daa6",
   "metadata": {},
   "outputs": [],
   "source": [
    "\n",
    "    "
   ]
  },
  {
   "cell_type": "code",
   "execution_count": null,
   "id": "a739858a",
   "metadata": {},
   "outputs": [],
   "source": []
  },
  {
   "cell_type": "code",
   "execution_count": null,
   "id": "109824cc",
   "metadata": {},
   "outputs": [],
   "source": []
  }
 ],
 "metadata": {
  "kernelspec": {
   "display_name": "Python 3",
   "language": "python",
   "name": "python3"
  },
  "language_info": {
   "codemirror_mode": {
    "name": "ipython",
    "version": 3
   },
   "file_extension": ".py",
   "mimetype": "text/x-python",
   "name": "python",
   "nbconvert_exporter": "python",
   "pygments_lexer": "ipython3",
   "version": "3.8.8"
  }
 },
 "nbformat": 4,
 "nbformat_minor": 5
}
