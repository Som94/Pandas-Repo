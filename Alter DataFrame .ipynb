{
 "cells": [
  {
   "cell_type": "code",
   "execution_count": 143,
   "id": "aa23a484",
   "metadata": {},
   "outputs": [],
   "source": [
    "import pandas as pd"
   ]
  },
  {
   "cell_type": "code",
   "execution_count": 144,
   "id": "ff801918",
   "metadata": {},
   "outputs": [],
   "source": [
    "people={'first':['Coery','Jane','John'],\n",
    "      'last':['Schafer','Doe','Doe'],\n",
    "       'email':['CoeryMSchafer@gmail.com','JaneDoe@gmail.com','JohnDoe@gmail.com']\n",
    "     }"
   ]
  },
  {
   "cell_type": "code",
   "execution_count": 145,
   "id": "0bdf3382",
   "metadata": {},
   "outputs": [],
   "source": [
    "df=pd.DataFrame(people)"
   ]
  },
  {
   "cell_type": "code",
   "execution_count": 146,
   "id": "42309a0c",
   "metadata": {},
   "outputs": [
    {
     "data": {
      "text/html": [
       "<div>\n",
       "<style scoped>\n",
       "    .dataframe tbody tr th:only-of-type {\n",
       "        vertical-align: middle;\n",
       "    }\n",
       "\n",
       "    .dataframe tbody tr th {\n",
       "        vertical-align: top;\n",
       "    }\n",
       "\n",
       "    .dataframe thead th {\n",
       "        text-align: right;\n",
       "    }\n",
       "</style>\n",
       "<table border=\"1\" class=\"dataframe\">\n",
       "  <thead>\n",
       "    <tr style=\"text-align: right;\">\n",
       "      <th></th>\n",
       "      <th>first</th>\n",
       "      <th>last</th>\n",
       "      <th>email</th>\n",
       "    </tr>\n",
       "  </thead>\n",
       "  <tbody>\n",
       "    <tr>\n",
       "      <th>0</th>\n",
       "      <td>Coery</td>\n",
       "      <td>Schafer</td>\n",
       "      <td>CoeryMSchafer@gmail.com</td>\n",
       "    </tr>\n",
       "    <tr>\n",
       "      <th>1</th>\n",
       "      <td>Jane</td>\n",
       "      <td>Doe</td>\n",
       "      <td>JaneDoe@gmail.com</td>\n",
       "    </tr>\n",
       "    <tr>\n",
       "      <th>2</th>\n",
       "      <td>John</td>\n",
       "      <td>Doe</td>\n",
       "      <td>JohnDoe@gmail.com</td>\n",
       "    </tr>\n",
       "  </tbody>\n",
       "</table>\n",
       "</div>"
      ],
      "text/plain": [
       "   first     last                    email\n",
       "0  Coery  Schafer  CoeryMSchafer@gmail.com\n",
       "1   Jane      Doe        JaneDoe@gmail.com\n",
       "2   John      Doe        JohnDoe@gmail.com"
      ]
     },
     "execution_count": 146,
     "metadata": {},
     "output_type": "execute_result"
    }
   ],
   "source": [
    "df"
   ]
  },
  {
   "cell_type": "markdown",
   "id": "c1a8717c",
   "metadata": {},
   "source": [
    "# Rename columns"
   ]
  },
  {
   "cell_type": "code",
   "execution_count": 147,
   "id": "115bbf8e",
   "metadata": {},
   "outputs": [],
   "source": [
    "# Rename all columns name"
   ]
  },
  {
   "cell_type": "code",
   "execution_count": 148,
   "id": "ac13fe80",
   "metadata": {},
   "outputs": [
    {
     "data": {
      "text/plain": [
       "Index(['first', 'last', 'email'], dtype='object')"
      ]
     },
     "execution_count": 148,
     "metadata": {},
     "output_type": "execute_result"
    }
   ],
   "source": [
    "df.columns"
   ]
  },
  {
   "cell_type": "code",
   "execution_count": 149,
   "id": "921d2647",
   "metadata": {},
   "outputs": [],
   "source": [
    "df.columns=['first name', 'last name', 'email id']"
   ]
  },
  {
   "cell_type": "code",
   "execution_count": 150,
   "id": "0f3706fb",
   "metadata": {},
   "outputs": [
    {
     "data": {
      "text/html": [
       "<div>\n",
       "<style scoped>\n",
       "    .dataframe tbody tr th:only-of-type {\n",
       "        vertical-align: middle;\n",
       "    }\n",
       "\n",
       "    .dataframe tbody tr th {\n",
       "        vertical-align: top;\n",
       "    }\n",
       "\n",
       "    .dataframe thead th {\n",
       "        text-align: right;\n",
       "    }\n",
       "</style>\n",
       "<table border=\"1\" class=\"dataframe\">\n",
       "  <thead>\n",
       "    <tr style=\"text-align: right;\">\n",
       "      <th></th>\n",
       "      <th>first name</th>\n",
       "      <th>last name</th>\n",
       "      <th>email id</th>\n",
       "    </tr>\n",
       "  </thead>\n",
       "  <tbody>\n",
       "    <tr>\n",
       "      <th>0</th>\n",
       "      <td>Coery</td>\n",
       "      <td>Schafer</td>\n",
       "      <td>CoeryMSchafer@gmail.com</td>\n",
       "    </tr>\n",
       "    <tr>\n",
       "      <th>1</th>\n",
       "      <td>Jane</td>\n",
       "      <td>Doe</td>\n",
       "      <td>JaneDoe@gmail.com</td>\n",
       "    </tr>\n",
       "    <tr>\n",
       "      <th>2</th>\n",
       "      <td>John</td>\n",
       "      <td>Doe</td>\n",
       "      <td>JohnDoe@gmail.com</td>\n",
       "    </tr>\n",
       "  </tbody>\n",
       "</table>\n",
       "</div>"
      ],
      "text/plain": [
       "  first name last name                 email id\n",
       "0      Coery   Schafer  CoeryMSchafer@gmail.com\n",
       "1       Jane       Doe        JaneDoe@gmail.com\n",
       "2       John       Doe        JohnDoe@gmail.com"
      ]
     },
     "execution_count": 150,
     "metadata": {},
     "output_type": "execute_result"
    }
   ],
   "source": [
    "df"
   ]
  },
  {
   "cell_type": "code",
   "execution_count": 151,
   "id": "519e992d",
   "metadata": {},
   "outputs": [
    {
     "data": {
      "text/plain": [
       "Index(['first name', 'last name', 'email id'], dtype='object')"
      ]
     },
     "execution_count": 151,
     "metadata": {},
     "output_type": "execute_result"
    }
   ],
   "source": [
    "df.columns"
   ]
  },
  {
   "cell_type": "code",
   "execution_count": 152,
   "id": "1c9e1aaa",
   "metadata": {},
   "outputs": [],
   "source": [
    "# Rename a perticular/specific columns name\n",
    "\n",
    "# syntax : <DataFrame Name>.rename(columns={'<old col name>':'<new col name>'}, inplace = True)"
   ]
  },
  {
   "cell_type": "code",
   "execution_count": 153,
   "id": "bdfc497d",
   "metadata": {},
   "outputs": [
    {
     "data": {
      "text/html": [
       "<div>\n",
       "<style scoped>\n",
       "    .dataframe tbody tr th:only-of-type {\n",
       "        vertical-align: middle;\n",
       "    }\n",
       "\n",
       "    .dataframe tbody tr th {\n",
       "        vertical-align: top;\n",
       "    }\n",
       "\n",
       "    .dataframe thead th {\n",
       "        text-align: right;\n",
       "    }\n",
       "</style>\n",
       "<table border=\"1\" class=\"dataframe\">\n",
       "  <thead>\n",
       "    <tr style=\"text-align: right;\">\n",
       "      <th></th>\n",
       "      <th>first name</th>\n",
       "      <th>last name</th>\n",
       "      <th>email</th>\n",
       "    </tr>\n",
       "  </thead>\n",
       "  <tbody>\n",
       "    <tr>\n",
       "      <th>0</th>\n",
       "      <td>Coery</td>\n",
       "      <td>Schafer</td>\n",
       "      <td>CoeryMSchafer@gmail.com</td>\n",
       "    </tr>\n",
       "    <tr>\n",
       "      <th>1</th>\n",
       "      <td>Jane</td>\n",
       "      <td>Doe</td>\n",
       "      <td>JaneDoe@gmail.com</td>\n",
       "    </tr>\n",
       "    <tr>\n",
       "      <th>2</th>\n",
       "      <td>John</td>\n",
       "      <td>Doe</td>\n",
       "      <td>JohnDoe@gmail.com</td>\n",
       "    </tr>\n",
       "  </tbody>\n",
       "</table>\n",
       "</div>"
      ],
      "text/plain": [
       "  first name last name                    email\n",
       "0      Coery   Schafer  CoeryMSchafer@gmail.com\n",
       "1       Jane       Doe        JaneDoe@gmail.com\n",
       "2       John       Doe        JohnDoe@gmail.com"
      ]
     },
     "execution_count": 153,
     "metadata": {},
     "output_type": "execute_result"
    }
   ],
   "source": [
    "df.rename(columns={'email id':'email'})"
   ]
  },
  {
   "cell_type": "code",
   "execution_count": 154,
   "id": "a7ee786f",
   "metadata": {},
   "outputs": [
    {
     "data": {
      "text/html": [
       "<div>\n",
       "<style scoped>\n",
       "    .dataframe tbody tr th:only-of-type {\n",
       "        vertical-align: middle;\n",
       "    }\n",
       "\n",
       "    .dataframe tbody tr th {\n",
       "        vertical-align: top;\n",
       "    }\n",
       "\n",
       "    .dataframe thead th {\n",
       "        text-align: right;\n",
       "    }\n",
       "</style>\n",
       "<table border=\"1\" class=\"dataframe\">\n",
       "  <thead>\n",
       "    <tr style=\"text-align: right;\">\n",
       "      <th></th>\n",
       "      <th>first name</th>\n",
       "      <th>last name</th>\n",
       "      <th>email id</th>\n",
       "    </tr>\n",
       "  </thead>\n",
       "  <tbody>\n",
       "    <tr>\n",
       "      <th>0</th>\n",
       "      <td>Coery</td>\n",
       "      <td>Schafer</td>\n",
       "      <td>CoeryMSchafer@gmail.com</td>\n",
       "    </tr>\n",
       "    <tr>\n",
       "      <th>1</th>\n",
       "      <td>Jane</td>\n",
       "      <td>Doe</td>\n",
       "      <td>JaneDoe@gmail.com</td>\n",
       "    </tr>\n",
       "    <tr>\n",
       "      <th>2</th>\n",
       "      <td>John</td>\n",
       "      <td>Doe</td>\n",
       "      <td>JohnDoe@gmail.com</td>\n",
       "    </tr>\n",
       "  </tbody>\n",
       "</table>\n",
       "</div>"
      ],
      "text/plain": [
       "  first name last name                 email id\n",
       "0      Coery   Schafer  CoeryMSchafer@gmail.com\n",
       "1       Jane       Doe        JaneDoe@gmail.com\n",
       "2       John       Doe        JohnDoe@gmail.com"
      ]
     },
     "execution_count": 154,
     "metadata": {},
     "output_type": "execute_result"
    }
   ],
   "source": [
    "df"
   ]
  },
  {
   "cell_type": "code",
   "execution_count": null,
   "id": "e6f31dc2",
   "metadata": {},
   "outputs": [],
   "source": []
  },
  {
   "cell_type": "code",
   "execution_count": 155,
   "id": "3cb5f92d",
   "metadata": {},
   "outputs": [],
   "source": [
    "# If we want this column name permanently, then specify inplace=True\n",
    "\n",
    "df.rename(columns={'email id':'email'}, inplace=True)"
   ]
  },
  {
   "cell_type": "code",
   "execution_count": 156,
   "id": "7c880667",
   "metadata": {},
   "outputs": [
    {
     "data": {
      "text/html": [
       "<div>\n",
       "<style scoped>\n",
       "    .dataframe tbody tr th:only-of-type {\n",
       "        vertical-align: middle;\n",
       "    }\n",
       "\n",
       "    .dataframe tbody tr th {\n",
       "        vertical-align: top;\n",
       "    }\n",
       "\n",
       "    .dataframe thead th {\n",
       "        text-align: right;\n",
       "    }\n",
       "</style>\n",
       "<table border=\"1\" class=\"dataframe\">\n",
       "  <thead>\n",
       "    <tr style=\"text-align: right;\">\n",
       "      <th></th>\n",
       "      <th>first name</th>\n",
       "      <th>last name</th>\n",
       "      <th>email</th>\n",
       "    </tr>\n",
       "  </thead>\n",
       "  <tbody>\n",
       "    <tr>\n",
       "      <th>0</th>\n",
       "      <td>Coery</td>\n",
       "      <td>Schafer</td>\n",
       "      <td>CoeryMSchafer@gmail.com</td>\n",
       "    </tr>\n",
       "    <tr>\n",
       "      <th>1</th>\n",
       "      <td>Jane</td>\n",
       "      <td>Doe</td>\n",
       "      <td>JaneDoe@gmail.com</td>\n",
       "    </tr>\n",
       "    <tr>\n",
       "      <th>2</th>\n",
       "      <td>John</td>\n",
       "      <td>Doe</td>\n",
       "      <td>JohnDoe@gmail.com</td>\n",
       "    </tr>\n",
       "  </tbody>\n",
       "</table>\n",
       "</div>"
      ],
      "text/plain": [
       "  first name last name                    email\n",
       "0      Coery   Schafer  CoeryMSchafer@gmail.com\n",
       "1       Jane       Doe        JaneDoe@gmail.com\n",
       "2       John       Doe        JohnDoe@gmail.com"
      ]
     },
     "execution_count": 156,
     "metadata": {},
     "output_type": "execute_result"
    }
   ],
   "source": [
    "df"
   ]
  },
  {
   "cell_type": "markdown",
   "id": "2a0fa1d0",
   "metadata": {},
   "source": [
    "# Change case"
   ]
  },
  {
   "cell_type": "code",
   "execution_count": 157,
   "id": "6f4a8eaa",
   "metadata": {},
   "outputs": [],
   "source": [
    "# Convert all columns name into upper case"
   ]
  },
  {
   "cell_type": "code",
   "execution_count": 158,
   "id": "2f67ac21",
   "metadata": {},
   "outputs": [
    {
     "data": {
      "text/html": [
       "<div>\n",
       "<style scoped>\n",
       "    .dataframe tbody tr th:only-of-type {\n",
       "        vertical-align: middle;\n",
       "    }\n",
       "\n",
       "    .dataframe tbody tr th {\n",
       "        vertical-align: top;\n",
       "    }\n",
       "\n",
       "    .dataframe thead th {\n",
       "        text-align: right;\n",
       "    }\n",
       "</style>\n",
       "<table border=\"1\" class=\"dataframe\">\n",
       "  <thead>\n",
       "    <tr style=\"text-align: right;\">\n",
       "      <th></th>\n",
       "      <th>FIRST NAME</th>\n",
       "      <th>LAST NAME</th>\n",
       "      <th>EMAIL</th>\n",
       "    </tr>\n",
       "  </thead>\n",
       "  <tbody>\n",
       "    <tr>\n",
       "      <th>0</th>\n",
       "      <td>Coery</td>\n",
       "      <td>Schafer</td>\n",
       "      <td>CoeryMSchafer@gmail.com</td>\n",
       "    </tr>\n",
       "    <tr>\n",
       "      <th>1</th>\n",
       "      <td>Jane</td>\n",
       "      <td>Doe</td>\n",
       "      <td>JaneDoe@gmail.com</td>\n",
       "    </tr>\n",
       "    <tr>\n",
       "      <th>2</th>\n",
       "      <td>John</td>\n",
       "      <td>Doe</td>\n",
       "      <td>JohnDoe@gmail.com</td>\n",
       "    </tr>\n",
       "  </tbody>\n",
       "</table>\n",
       "</div>"
      ],
      "text/plain": [
       "  FIRST NAME LAST NAME                    EMAIL\n",
       "0      Coery   Schafer  CoeryMSchafer@gmail.com\n",
       "1       Jane       Doe        JaneDoe@gmail.com\n",
       "2       John       Doe        JohnDoe@gmail.com"
      ]
     },
     "execution_count": 158,
     "metadata": {},
     "output_type": "execute_result"
    }
   ],
   "source": [
    "df.columns=[x.upper() for x in df.columns]\n",
    "df"
   ]
  },
  {
   "cell_type": "code",
   "execution_count": 159,
   "id": "8020a659",
   "metadata": {},
   "outputs": [
    {
     "data": {
      "text/html": [
       "<div>\n",
       "<style scoped>\n",
       "    .dataframe tbody tr th:only-of-type {\n",
       "        vertical-align: middle;\n",
       "    }\n",
       "\n",
       "    .dataframe tbody tr th {\n",
       "        vertical-align: top;\n",
       "    }\n",
       "\n",
       "    .dataframe thead th {\n",
       "        text-align: right;\n",
       "    }\n",
       "</style>\n",
       "<table border=\"1\" class=\"dataframe\">\n",
       "  <thead>\n",
       "    <tr style=\"text-align: right;\">\n",
       "      <th></th>\n",
       "      <th>First Name</th>\n",
       "      <th>Last Name</th>\n",
       "      <th>Email</th>\n",
       "    </tr>\n",
       "  </thead>\n",
       "  <tbody>\n",
       "    <tr>\n",
       "      <th>0</th>\n",
       "      <td>Coery</td>\n",
       "      <td>Schafer</td>\n",
       "      <td>CoeryMSchafer@gmail.com</td>\n",
       "    </tr>\n",
       "    <tr>\n",
       "      <th>1</th>\n",
       "      <td>Jane</td>\n",
       "      <td>Doe</td>\n",
       "      <td>JaneDoe@gmail.com</td>\n",
       "    </tr>\n",
       "    <tr>\n",
       "      <th>2</th>\n",
       "      <td>John</td>\n",
       "      <td>Doe</td>\n",
       "      <td>JohnDoe@gmail.com</td>\n",
       "    </tr>\n",
       "  </tbody>\n",
       "</table>\n",
       "</div>"
      ],
      "text/plain": [
       "  First Name Last Name                    Email\n",
       "0      Coery   Schafer  CoeryMSchafer@gmail.com\n",
       "1       Jane       Doe        JaneDoe@gmail.com\n",
       "2       John       Doe        JohnDoe@gmail.com"
      ]
     },
     "execution_count": 159,
     "metadata": {},
     "output_type": "execute_result"
    }
   ],
   "source": [
    "# Convert all columns name into Title case (All words first letter is capital)\n",
    "\n",
    "df.columns=[x.title() for x in df.columns]\n",
    "df"
   ]
  },
  {
   "cell_type": "markdown",
   "id": "96d8132e",
   "metadata": {},
   "source": [
    "# Replacing"
   ]
  },
  {
   "cell_type": "code",
   "execution_count": 160,
   "id": "4bd76c74",
   "metadata": {},
   "outputs": [],
   "source": [
    "# For replacing we use replace() method\n",
    "\n",
    "# Syntax : replace( '<old value>' , '<new value>' )"
   ]
  },
  {
   "cell_type": "code",
   "execution_count": 161,
   "id": "07fc5e37",
   "metadata": {},
   "outputs": [],
   "source": [
    "# Replacing space (' ') with '_'  in all columns\n",
    "\n",
    "df.columns=df.columns.str.replace(' ','_')"
   ]
  },
  {
   "cell_type": "code",
   "execution_count": 162,
   "id": "468c0a6c",
   "metadata": {},
   "outputs": [
    {
     "data": {
      "text/html": [
       "<div>\n",
       "<style scoped>\n",
       "    .dataframe tbody tr th:only-of-type {\n",
       "        vertical-align: middle;\n",
       "    }\n",
       "\n",
       "    .dataframe tbody tr th {\n",
       "        vertical-align: top;\n",
       "    }\n",
       "\n",
       "    .dataframe thead th {\n",
       "        text-align: right;\n",
       "    }\n",
       "</style>\n",
       "<table border=\"1\" class=\"dataframe\">\n",
       "  <thead>\n",
       "    <tr style=\"text-align: right;\">\n",
       "      <th></th>\n",
       "      <th>First_Name</th>\n",
       "      <th>Last_Name</th>\n",
       "      <th>Email</th>\n",
       "    </tr>\n",
       "  </thead>\n",
       "  <tbody>\n",
       "    <tr>\n",
       "      <th>0</th>\n",
       "      <td>Coery</td>\n",
       "      <td>Schafer</td>\n",
       "      <td>CoeryMSchafer@gmail.com</td>\n",
       "    </tr>\n",
       "    <tr>\n",
       "      <th>1</th>\n",
       "      <td>Jane</td>\n",
       "      <td>Doe</td>\n",
       "      <td>JaneDoe@gmail.com</td>\n",
       "    </tr>\n",
       "    <tr>\n",
       "      <th>2</th>\n",
       "      <td>John</td>\n",
       "      <td>Doe</td>\n",
       "      <td>JohnDoe@gmail.com</td>\n",
       "    </tr>\n",
       "  </tbody>\n",
       "</table>\n",
       "</div>"
      ],
      "text/plain": [
       "  First_Name Last_Name                    Email\n",
       "0      Coery   Schafer  CoeryMSchafer@gmail.com\n",
       "1       Jane       Doe        JaneDoe@gmail.com\n",
       "2       John       Doe        JohnDoe@gmail.com"
      ]
     },
     "execution_count": 162,
     "metadata": {},
     "output_type": "execute_result"
    }
   ],
   "source": [
    "df"
   ]
  },
  {
   "cell_type": "code",
   "execution_count": 163,
   "id": "d1928fbb",
   "metadata": {},
   "outputs": [
    {
     "data": {
      "text/html": [
       "<div>\n",
       "<style scoped>\n",
       "    .dataframe tbody tr th:only-of-type {\n",
       "        vertical-align: middle;\n",
       "    }\n",
       "\n",
       "    .dataframe tbody tr th {\n",
       "        vertical-align: top;\n",
       "    }\n",
       "\n",
       "    .dataframe thead th {\n",
       "        text-align: right;\n",
       "    }\n",
       "</style>\n",
       "<table border=\"1\" class=\"dataframe\">\n",
       "  <thead>\n",
       "    <tr style=\"text-align: right;\">\n",
       "      <th></th>\n",
       "      <th>first_name</th>\n",
       "      <th>last_name</th>\n",
       "      <th>email</th>\n",
       "    </tr>\n",
       "  </thead>\n",
       "  <tbody>\n",
       "    <tr>\n",
       "      <th>0</th>\n",
       "      <td>Coery</td>\n",
       "      <td>Schafer</td>\n",
       "      <td>CoeryMSchafer@gmail.com</td>\n",
       "    </tr>\n",
       "    <tr>\n",
       "      <th>1</th>\n",
       "      <td>Jane</td>\n",
       "      <td>Doe</td>\n",
       "      <td>JaneDoe@gmail.com</td>\n",
       "    </tr>\n",
       "    <tr>\n",
       "      <th>2</th>\n",
       "      <td>John</td>\n",
       "      <td>Doe</td>\n",
       "      <td>JohnDoe@gmail.com</td>\n",
       "    </tr>\n",
       "  </tbody>\n",
       "</table>\n",
       "</div>"
      ],
      "text/plain": [
       "  first_name last_name                    email\n",
       "0      Coery   Schafer  CoeryMSchafer@gmail.com\n",
       "1       Jane       Doe        JaneDoe@gmail.com\n",
       "2       John       Doe        JohnDoe@gmail.com"
      ]
     },
     "execution_count": 163,
     "metadata": {},
     "output_type": "execute_result"
    }
   ],
   "source": [
    "# Change all columns name into small/lower case\n",
    "\n",
    "df.columns=[x.lower() for x in df.columns]\n",
    "df"
   ]
  },
  {
   "cell_type": "code",
   "execution_count": null,
   "id": "e7b38647",
   "metadata": {},
   "outputs": [],
   "source": []
  },
  {
   "cell_type": "markdown",
   "id": "c8d56654",
   "metadata": {},
   "source": [
    "## Updating a single Row Data"
   ]
  },
  {
   "cell_type": "code",
   "execution_count": null,
   "id": "6e966a65",
   "metadata": {},
   "outputs": [],
   "source": []
  },
  {
   "cell_type": "markdown",
   "id": "3d0a589c",
   "metadata": {},
   "source": [
    "# By Using loc"
   ]
  },
  {
   "cell_type": "code",
   "execution_count": 164,
   "id": "72d4ab12",
   "metadata": {},
   "outputs": [],
   "source": [
    "# Update a single value"
   ]
  },
  {
   "cell_type": "code",
   "execution_count": 165,
   "id": "652265cc",
   "metadata": {},
   "outputs": [
    {
     "data": {
      "text/plain": [
       "first_name                 John\n",
       "last_name                   Doe\n",
       "email         JohnDoe@gmail.com\n",
       "Name: 2, dtype: object"
      ]
     },
     "execution_count": 165,
     "metadata": {},
     "output_type": "execute_result"
    }
   ],
   "source": [
    "# Change last name to smith, where fast name is John?\n",
    "\n",
    "df.loc[2]       #grab that row"
   ]
  },
  {
   "cell_type": "code",
   "execution_count": 166,
   "id": "e767a470",
   "metadata": {},
   "outputs": [],
   "source": [
    "df.loc[2]=['John','Smith','Johnsmith@gmail.com']"
   ]
  },
  {
   "cell_type": "code",
   "execution_count": 167,
   "id": "dbef53d4",
   "metadata": {},
   "outputs": [
    {
     "data": {
      "text/html": [
       "<div>\n",
       "<style scoped>\n",
       "    .dataframe tbody tr th:only-of-type {\n",
       "        vertical-align: middle;\n",
       "    }\n",
       "\n",
       "    .dataframe tbody tr th {\n",
       "        vertical-align: top;\n",
       "    }\n",
       "\n",
       "    .dataframe thead th {\n",
       "        text-align: right;\n",
       "    }\n",
       "</style>\n",
       "<table border=\"1\" class=\"dataframe\">\n",
       "  <thead>\n",
       "    <tr style=\"text-align: right;\">\n",
       "      <th></th>\n",
       "      <th>first_name</th>\n",
       "      <th>last_name</th>\n",
       "      <th>email</th>\n",
       "    </tr>\n",
       "  </thead>\n",
       "  <tbody>\n",
       "    <tr>\n",
       "      <th>0</th>\n",
       "      <td>Coery</td>\n",
       "      <td>Schafer</td>\n",
       "      <td>CoeryMSchafer@gmail.com</td>\n",
       "    </tr>\n",
       "    <tr>\n",
       "      <th>1</th>\n",
       "      <td>Jane</td>\n",
       "      <td>Doe</td>\n",
       "      <td>JaneDoe@gmail.com</td>\n",
       "    </tr>\n",
       "    <tr>\n",
       "      <th>2</th>\n",
       "      <td>John</td>\n",
       "      <td>Smith</td>\n",
       "      <td>Johnsmith@gmail.com</td>\n",
       "    </tr>\n",
       "  </tbody>\n",
       "</table>\n",
       "</div>"
      ],
      "text/plain": [
       "  first_name last_name                    email\n",
       "0      Coery   Schafer  CoeryMSchafer@gmail.com\n",
       "1       Jane       Doe        JaneDoe@gmail.com\n",
       "2       John     Smith      Johnsmith@gmail.com"
      ]
     },
     "execution_count": 167,
     "metadata": {},
     "output_type": "execute_result"
    }
   ],
   "source": [
    "df"
   ]
  },
  {
   "cell_type": "code",
   "execution_count": 168,
   "id": "20d3643d",
   "metadata": {},
   "outputs": [],
   "source": [
    "# If there are huge number of data set , then updating single value on this above way is more difficult and this way is not\n",
    "# recomanded .\n",
    "\n",
    "\n",
    "# So, for overcome to this problem , we have to pick value only and update it \n",
    "\n",
    "# syntax : <DataFrame name>.loc[<specific row index value>, ['<that specific column name>']] = ['<Update value>']\n",
    "\n",
    "df.loc[2,'last_name']='Doe'"
   ]
  },
  {
   "cell_type": "code",
   "execution_count": 169,
   "id": "154e5423",
   "metadata": {},
   "outputs": [
    {
     "data": {
      "text/html": [
       "<div>\n",
       "<style scoped>\n",
       "    .dataframe tbody tr th:only-of-type {\n",
       "        vertical-align: middle;\n",
       "    }\n",
       "\n",
       "    .dataframe tbody tr th {\n",
       "        vertical-align: top;\n",
       "    }\n",
       "\n",
       "    .dataframe thead th {\n",
       "        text-align: right;\n",
       "    }\n",
       "</style>\n",
       "<table border=\"1\" class=\"dataframe\">\n",
       "  <thead>\n",
       "    <tr style=\"text-align: right;\">\n",
       "      <th></th>\n",
       "      <th>first_name</th>\n",
       "      <th>last_name</th>\n",
       "      <th>email</th>\n",
       "    </tr>\n",
       "  </thead>\n",
       "  <tbody>\n",
       "    <tr>\n",
       "      <th>0</th>\n",
       "      <td>Coery</td>\n",
       "      <td>Schafer</td>\n",
       "      <td>CoeryMSchafer@gmail.com</td>\n",
       "    </tr>\n",
       "    <tr>\n",
       "      <th>1</th>\n",
       "      <td>Jane</td>\n",
       "      <td>Doe</td>\n",
       "      <td>JaneDoe@gmail.com</td>\n",
       "    </tr>\n",
       "    <tr>\n",
       "      <th>2</th>\n",
       "      <td>John</td>\n",
       "      <td>Doe</td>\n",
       "      <td>Johnsmith@gmail.com</td>\n",
       "    </tr>\n",
       "  </tbody>\n",
       "</table>\n",
       "</div>"
      ],
      "text/plain": [
       "  first_name last_name                    email\n",
       "0      Coery   Schafer  CoeryMSchafer@gmail.com\n",
       "1       Jane       Doe        JaneDoe@gmail.com\n",
       "2       John       Doe      Johnsmith@gmail.com"
      ]
     },
     "execution_count": 169,
     "metadata": {},
     "output_type": "execute_result"
    }
   ],
   "source": [
    "df"
   ]
  },
  {
   "cell_type": "code",
   "execution_count": 170,
   "id": "5d10b1b8",
   "metadata": {},
   "outputs": [],
   "source": [
    "# If Updating more than one value or multiple value in same row, then we have pass that coressponding columns in a list\n",
    "# and also passing updating value in side a list\n",
    "\n",
    "df.loc[2,['first_name','last_name','email']]=['J','Smith','JSmith@gmail.com']"
   ]
  },
  {
   "cell_type": "code",
   "execution_count": 171,
   "id": "b0888d37",
   "metadata": {},
   "outputs": [
    {
     "data": {
      "text/html": [
       "<div>\n",
       "<style scoped>\n",
       "    .dataframe tbody tr th:only-of-type {\n",
       "        vertical-align: middle;\n",
       "    }\n",
       "\n",
       "    .dataframe tbody tr th {\n",
       "        vertical-align: top;\n",
       "    }\n",
       "\n",
       "    .dataframe thead th {\n",
       "        text-align: right;\n",
       "    }\n",
       "</style>\n",
       "<table border=\"1\" class=\"dataframe\">\n",
       "  <thead>\n",
       "    <tr style=\"text-align: right;\">\n",
       "      <th></th>\n",
       "      <th>first_name</th>\n",
       "      <th>last_name</th>\n",
       "      <th>email</th>\n",
       "    </tr>\n",
       "  </thead>\n",
       "  <tbody>\n",
       "    <tr>\n",
       "      <th>0</th>\n",
       "      <td>Coery</td>\n",
       "      <td>Schafer</td>\n",
       "      <td>CoeryMSchafer@gmail.com</td>\n",
       "    </tr>\n",
       "    <tr>\n",
       "      <th>1</th>\n",
       "      <td>Jane</td>\n",
       "      <td>Doe</td>\n",
       "      <td>JaneDoe@gmail.com</td>\n",
       "    </tr>\n",
       "    <tr>\n",
       "      <th>2</th>\n",
       "      <td>J</td>\n",
       "      <td>Smith</td>\n",
       "      <td>JSmith@gmail.com</td>\n",
       "    </tr>\n",
       "  </tbody>\n",
       "</table>\n",
       "</div>"
      ],
      "text/plain": [
       "  first_name last_name                    email\n",
       "0      Coery   Schafer  CoeryMSchafer@gmail.com\n",
       "1       Jane       Doe        JaneDoe@gmail.com\n",
       "2          J     Smith         JSmith@gmail.com"
      ]
     },
     "execution_count": 171,
     "metadata": {},
     "output_type": "execute_result"
    }
   ],
   "source": [
    "df"
   ]
  },
  {
   "cell_type": "code",
   "execution_count": null,
   "id": "3c85f23b",
   "metadata": {},
   "outputs": [],
   "source": []
  },
  {
   "cell_type": "markdown",
   "id": "d0e93630",
   "metadata": {},
   "source": [
    "# By Using at"
   ]
  },
  {
   "cell_type": "code",
   "execution_count": 172,
   "id": "2ab7f5f5",
   "metadata": {},
   "outputs": [],
   "source": [
    "# at[] always except 2 positional arguments, 1st position for row and 2nd position for column\n",
    "\n",
    "# we can't access multiple values by using at[]  ---->  df.at[2,['first_name','last_name','email']]   --> bcz unhashable type\n",
    "\n",
    "# But we can assign in 2nd position list of columns name for updation  --->\n",
    "#                                            df.at[2,['first_name','last_name','email']]=['John','Doe','JohnDoe@gmail.com']\n",
    "\n",
    "# By using at[] , we can't access a specific row , bcz it's always except 2 positional arguments ---->  df.at[0]"
   ]
  },
  {
   "cell_type": "code",
   "execution_count": 173,
   "id": "09585958",
   "metadata": {},
   "outputs": [
    {
     "data": {
      "text/plain": [
       "'Schafer'"
      ]
     },
     "execution_count": 173,
     "metadata": {},
     "output_type": "execute_result"
    }
   ],
   "source": [
    "df.at[0,'last_name']    # for retriving Only one specific value at is more faster than loc"
   ]
  },
  {
   "cell_type": "code",
   "execution_count": 174,
   "id": "627fba22",
   "metadata": {},
   "outputs": [],
   "source": [
    "df.at[2,'last_name']='Smt'           # Updating a single value"
   ]
  },
  {
   "cell_type": "code",
   "execution_count": 175,
   "id": "803691f0",
   "metadata": {},
   "outputs": [
    {
     "data": {
      "text/html": [
       "<div>\n",
       "<style scoped>\n",
       "    .dataframe tbody tr th:only-of-type {\n",
       "        vertical-align: middle;\n",
       "    }\n",
       "\n",
       "    .dataframe tbody tr th {\n",
       "        vertical-align: top;\n",
       "    }\n",
       "\n",
       "    .dataframe thead th {\n",
       "        text-align: right;\n",
       "    }\n",
       "</style>\n",
       "<table border=\"1\" class=\"dataframe\">\n",
       "  <thead>\n",
       "    <tr style=\"text-align: right;\">\n",
       "      <th></th>\n",
       "      <th>first_name</th>\n",
       "      <th>last_name</th>\n",
       "      <th>email</th>\n",
       "    </tr>\n",
       "  </thead>\n",
       "  <tbody>\n",
       "    <tr>\n",
       "      <th>0</th>\n",
       "      <td>Coery</td>\n",
       "      <td>Schafer</td>\n",
       "      <td>CoeryMSchafer@gmail.com</td>\n",
       "    </tr>\n",
       "    <tr>\n",
       "      <th>1</th>\n",
       "      <td>Jane</td>\n",
       "      <td>Doe</td>\n",
       "      <td>JaneDoe@gmail.com</td>\n",
       "    </tr>\n",
       "    <tr>\n",
       "      <th>2</th>\n",
       "      <td>J</td>\n",
       "      <td>Smt</td>\n",
       "      <td>JSmith@gmail.com</td>\n",
       "    </tr>\n",
       "  </tbody>\n",
       "</table>\n",
       "</div>"
      ],
      "text/plain": [
       "  first_name last_name                    email\n",
       "0      Coery   Schafer  CoeryMSchafer@gmail.com\n",
       "1       Jane       Doe        JaneDoe@gmail.com\n",
       "2          J       Smt         JSmith@gmail.com"
      ]
     },
     "execution_count": 175,
     "metadata": {},
     "output_type": "execute_result"
    }
   ],
   "source": [
    "df"
   ]
  },
  {
   "cell_type": "code",
   "execution_count": 176,
   "id": "dc6f8db8",
   "metadata": {},
   "outputs": [],
   "source": [
    "df.at[2,['first_name','last_name','email']]=['John','Doe','JohnDoe@gmail.com']   # Updating multiple value in a same row"
   ]
  },
  {
   "cell_type": "code",
   "execution_count": 177,
   "id": "c354bd75",
   "metadata": {},
   "outputs": [
    {
     "data": {
      "text/html": [
       "<div>\n",
       "<style scoped>\n",
       "    .dataframe tbody tr th:only-of-type {\n",
       "        vertical-align: middle;\n",
       "    }\n",
       "\n",
       "    .dataframe tbody tr th {\n",
       "        vertical-align: top;\n",
       "    }\n",
       "\n",
       "    .dataframe thead th {\n",
       "        text-align: right;\n",
       "    }\n",
       "</style>\n",
       "<table border=\"1\" class=\"dataframe\">\n",
       "  <thead>\n",
       "    <tr style=\"text-align: right;\">\n",
       "      <th></th>\n",
       "      <th>first_name</th>\n",
       "      <th>last_name</th>\n",
       "      <th>email</th>\n",
       "    </tr>\n",
       "  </thead>\n",
       "  <tbody>\n",
       "    <tr>\n",
       "      <th>0</th>\n",
       "      <td>Coery</td>\n",
       "      <td>Schafer</td>\n",
       "      <td>CoeryMSchafer@gmail.com</td>\n",
       "    </tr>\n",
       "    <tr>\n",
       "      <th>1</th>\n",
       "      <td>Jane</td>\n",
       "      <td>Doe</td>\n",
       "      <td>JaneDoe@gmail.com</td>\n",
       "    </tr>\n",
       "    <tr>\n",
       "      <th>2</th>\n",
       "      <td>John</td>\n",
       "      <td>Doe</td>\n",
       "      <td>JohnDoe@gmail.com</td>\n",
       "    </tr>\n",
       "  </tbody>\n",
       "</table>\n",
       "</div>"
      ],
      "text/plain": [
       "  first_name last_name                    email\n",
       "0      Coery   Schafer  CoeryMSchafer@gmail.com\n",
       "1       Jane       Doe        JaneDoe@gmail.com\n",
       "2       John       Doe        JohnDoe@gmail.com"
      ]
     },
     "execution_count": 177,
     "metadata": {},
     "output_type": "execute_result"
    }
   ],
   "source": [
    "df"
   ]
  },
  {
   "cell_type": "code",
   "execution_count": null,
   "id": "2bf0a32f",
   "metadata": {},
   "outputs": [],
   "source": []
  },
  {
   "cell_type": "markdown",
   "id": "191363c7",
   "metadata": {},
   "source": [
    "# By using Filtering"
   ]
  },
  {
   "cell_type": "code",
   "execution_count": 185,
   "id": "32969e95",
   "metadata": {},
   "outputs": [],
   "source": [
    "# Update the lastname to 'smith' where email id is JohnDoe@gmail.com"
   ]
  },
  {
   "cell_type": "code",
   "execution_count": 186,
   "id": "f8d18741",
   "metadata": {},
   "outputs": [],
   "source": [
    "filt=df['email']=='JohnDoe@gmail.com'"
   ]
  },
  {
   "cell_type": "code",
   "execution_count": 189,
   "id": "41ed4f37",
   "metadata": {},
   "outputs": [],
   "source": [
    "df.loc[filt,'last_name']='Smith'"
   ]
  },
  {
   "cell_type": "code",
   "execution_count": 190,
   "id": "8df752e5",
   "metadata": {},
   "outputs": [
    {
     "data": {
      "text/html": [
       "<div>\n",
       "<style scoped>\n",
       "    .dataframe tbody tr th:only-of-type {\n",
       "        vertical-align: middle;\n",
       "    }\n",
       "\n",
       "    .dataframe tbody tr th {\n",
       "        vertical-align: top;\n",
       "    }\n",
       "\n",
       "    .dataframe thead th {\n",
       "        text-align: right;\n",
       "    }\n",
       "</style>\n",
       "<table border=\"1\" class=\"dataframe\">\n",
       "  <thead>\n",
       "    <tr style=\"text-align: right;\">\n",
       "      <th></th>\n",
       "      <th>first_name</th>\n",
       "      <th>last_name</th>\n",
       "      <th>email</th>\n",
       "    </tr>\n",
       "  </thead>\n",
       "  <tbody>\n",
       "    <tr>\n",
       "      <th>0</th>\n",
       "      <td>Coery</td>\n",
       "      <td>Schafer</td>\n",
       "      <td>CoeryMSchafer@gmail.com</td>\n",
       "    </tr>\n",
       "    <tr>\n",
       "      <th>1</th>\n",
       "      <td>Jane</td>\n",
       "      <td>Doe</td>\n",
       "      <td>JaneDoe@gmail.com</td>\n",
       "    </tr>\n",
       "    <tr>\n",
       "      <th>2</th>\n",
       "      <td>John</td>\n",
       "      <td>Smith</td>\n",
       "      <td>JohnDoe@gmail.com</td>\n",
       "    </tr>\n",
       "  </tbody>\n",
       "</table>\n",
       "</div>"
      ],
      "text/plain": [
       "  first_name last_name                    email\n",
       "0      Coery   Schafer  CoeryMSchafer@gmail.com\n",
       "1       Jane       Doe        JaneDoe@gmail.com\n",
       "2       John     Smith        JohnDoe@gmail.com"
      ]
     },
     "execution_count": 190,
     "metadata": {},
     "output_type": "execute_result"
    }
   ],
   "source": [
    "df"
   ]
  },
  {
   "cell_type": "code",
   "execution_count": null,
   "id": "ee93bb57",
   "metadata": {},
   "outputs": [],
   "source": []
  },
  {
   "cell_type": "markdown",
   "id": "a1662fd7",
   "metadata": {},
   "source": [
    "# Updating multiple Row data"
   ]
  },
  {
   "cell_type": "code",
   "execution_count": 191,
   "id": "7cd8f3e3",
   "metadata": {},
   "outputs": [],
   "source": [
    "# Q. Update all email into lower case"
   ]
  },
  {
   "cell_type": "code",
   "execution_count": 193,
   "id": "24e15017",
   "metadata": {},
   "outputs": [
    {
     "data": {
      "text/plain": [
       "0    coerymschafer@gmail.com\n",
       "1          janedoe@gmail.com\n",
       "2          johndoe@gmail.com\n",
       "Name: email, dtype: object"
      ]
     },
     "execution_count": 193,
     "metadata": {},
     "output_type": "execute_result"
    }
   ],
   "source": [
    "df['email'].str.lower()"
   ]
  },
  {
   "cell_type": "code",
   "execution_count": 194,
   "id": "65fa1f4f",
   "metadata": {},
   "outputs": [],
   "source": [
    "df['email']=df['email'].str.lower()"
   ]
  },
  {
   "cell_type": "code",
   "execution_count": 195,
   "id": "67119984",
   "metadata": {},
   "outputs": [
    {
     "data": {
      "text/html": [
       "<div>\n",
       "<style scoped>\n",
       "    .dataframe tbody tr th:only-of-type {\n",
       "        vertical-align: middle;\n",
       "    }\n",
       "\n",
       "    .dataframe tbody tr th {\n",
       "        vertical-align: top;\n",
       "    }\n",
       "\n",
       "    .dataframe thead th {\n",
       "        text-align: right;\n",
       "    }\n",
       "</style>\n",
       "<table border=\"1\" class=\"dataframe\">\n",
       "  <thead>\n",
       "    <tr style=\"text-align: right;\">\n",
       "      <th></th>\n",
       "      <th>first_name</th>\n",
       "      <th>last_name</th>\n",
       "      <th>email</th>\n",
       "    </tr>\n",
       "  </thead>\n",
       "  <tbody>\n",
       "    <tr>\n",
       "      <th>0</th>\n",
       "      <td>Coery</td>\n",
       "      <td>Schafer</td>\n",
       "      <td>coerymschafer@gmail.com</td>\n",
       "    </tr>\n",
       "    <tr>\n",
       "      <th>1</th>\n",
       "      <td>Jane</td>\n",
       "      <td>Doe</td>\n",
       "      <td>janedoe@gmail.com</td>\n",
       "    </tr>\n",
       "    <tr>\n",
       "      <th>2</th>\n",
       "      <td>John</td>\n",
       "      <td>Smith</td>\n",
       "      <td>johndoe@gmail.com</td>\n",
       "    </tr>\n",
       "  </tbody>\n",
       "</table>\n",
       "</div>"
      ],
      "text/plain": [
       "  first_name last_name                    email\n",
       "0      Coery   Schafer  coerymschafer@gmail.com\n",
       "1       Jane       Doe        janedoe@gmail.com\n",
       "2       John     Smith        johndoe@gmail.com"
      ]
     },
     "execution_count": 195,
     "metadata": {},
     "output_type": "execute_result"
    }
   ],
   "source": [
    "df"
   ]
  },
  {
   "cell_type": "markdown",
   "id": "d8290a08",
   "metadata": {},
   "source": [
    "There are 4 methods by using these we can also update multiple rows value.\n",
    "\n",
    "    - apply()\n",
    "    \n",
    "    - map()\n",
    "    \n",
    "    - applymap()\n",
    "    \n",
    "    - replace()"
   ]
  },
  {
   "cell_type": "markdown",
   "id": "d8eac821",
   "metadata": {},
   "source": [
    "# apply()"
   ]
  },
  {
   "cell_type": "markdown",
   "id": "39da1f7a",
   "metadata": {},
   "source": [
    "apply() is use for calling a function on our values\n",
    "and apply can work either on dataframe or series objects"
   ]
  },
  {
   "cell_type": "code",
   "execution_count": 211,
   "id": "67871ee5",
   "metadata": {},
   "outputs": [],
   "source": [
    "# On Series objects"
   ]
  },
  {
   "cell_type": "code",
   "execution_count": 197,
   "id": "1d60e5f5",
   "metadata": {},
   "outputs": [
    {
     "data": {
      "text/plain": [
       "first_name    3\n",
       "last_name     3\n",
       "email         3\n",
       "dtype: int64"
      ]
     },
     "execution_count": 197,
     "metadata": {},
     "output_type": "execute_result"
    }
   ],
   "source": [
    "df.apply(len)"
   ]
  },
  {
   "cell_type": "code",
   "execution_count": 199,
   "id": "609af303",
   "metadata": {},
   "outputs": [
    {
     "data": {
      "text/plain": [
       "0    23\n",
       "1    17\n",
       "2    17\n",
       "Name: email, dtype: int64"
      ]
     },
     "execution_count": 199,
     "metadata": {},
     "output_type": "execute_result"
    }
   ],
   "source": [
    "df['email'].apply(len)   # It will return length of all email id present in email column"
   ]
  },
  {
   "cell_type": "code",
   "execution_count": 201,
   "id": "791798e0",
   "metadata": {},
   "outputs": [],
   "source": [
    "#To update email id into upper case by using apply()\n",
    "\n",
    "# for this we have to create changing uppercase function, pass that function into apply() "
   ]
  },
  {
   "cell_type": "code",
   "execution_count": 202,
   "id": "5f3c773a",
   "metadata": {},
   "outputs": [],
   "source": [
    "def upper_case_email(email):\n",
    "    return email.upper()"
   ]
  },
  {
   "cell_type": "code",
   "execution_count": 203,
   "id": "82eeb484",
   "metadata": {},
   "outputs": [
    {
     "data": {
      "text/plain": [
       "0    COERYMSCHAFER@GMAIL.COM\n",
       "1          JANEDOE@GMAIL.COM\n",
       "2          JOHNDOE@GMAIL.COM\n",
       "Name: email, dtype: object"
      ]
     },
     "execution_count": 203,
     "metadata": {},
     "output_type": "execute_result"
    }
   ],
   "source": [
    "df['email'].apply(upper_case_email)"
   ]
  },
  {
   "cell_type": "code",
   "execution_count": 204,
   "id": "c5d3da66",
   "metadata": {},
   "outputs": [],
   "source": [
    "df['email']=df['email'].apply(upper_case_email)"
   ]
  },
  {
   "cell_type": "code",
   "execution_count": 205,
   "id": "7854e982",
   "metadata": {},
   "outputs": [
    {
     "data": {
      "text/html": [
       "<div>\n",
       "<style scoped>\n",
       "    .dataframe tbody tr th:only-of-type {\n",
       "        vertical-align: middle;\n",
       "    }\n",
       "\n",
       "    .dataframe tbody tr th {\n",
       "        vertical-align: top;\n",
       "    }\n",
       "\n",
       "    .dataframe thead th {\n",
       "        text-align: right;\n",
       "    }\n",
       "</style>\n",
       "<table border=\"1\" class=\"dataframe\">\n",
       "  <thead>\n",
       "    <tr style=\"text-align: right;\">\n",
       "      <th></th>\n",
       "      <th>first_name</th>\n",
       "      <th>last_name</th>\n",
       "      <th>email</th>\n",
       "    </tr>\n",
       "  </thead>\n",
       "  <tbody>\n",
       "    <tr>\n",
       "      <th>0</th>\n",
       "      <td>Coery</td>\n",
       "      <td>Schafer</td>\n",
       "      <td>COERYMSCHAFER@GMAIL.COM</td>\n",
       "    </tr>\n",
       "    <tr>\n",
       "      <th>1</th>\n",
       "      <td>Jane</td>\n",
       "      <td>Doe</td>\n",
       "      <td>JANEDOE@GMAIL.COM</td>\n",
       "    </tr>\n",
       "    <tr>\n",
       "      <th>2</th>\n",
       "      <td>John</td>\n",
       "      <td>Smith</td>\n",
       "      <td>JOHNDOE@GMAIL.COM</td>\n",
       "    </tr>\n",
       "  </tbody>\n",
       "</table>\n",
       "</div>"
      ],
      "text/plain": [
       "  first_name last_name                    email\n",
       "0      Coery   Schafer  COERYMSCHAFER@GMAIL.COM\n",
       "1       Jane       Doe        JANEDOE@GMAIL.COM\n",
       "2       John     Smith        JOHNDOE@GMAIL.COM"
      ]
     },
     "execution_count": 205,
     "metadata": {},
     "output_type": "execute_result"
    }
   ],
   "source": [
    "df"
   ]
  },
  {
   "cell_type": "code",
   "execution_count": 206,
   "id": "5f01a116",
   "metadata": {},
   "outputs": [],
   "source": [
    "# By Using lambda function"
   ]
  },
  {
   "cell_type": "code",
   "execution_count": 209,
   "id": "a3b5d75a",
   "metadata": {},
   "outputs": [],
   "source": [
    " df['email']=df['email'].apply(lambda x: x.lower())"
   ]
  },
  {
   "cell_type": "code",
   "execution_count": 210,
   "id": "19f4768f",
   "metadata": {},
   "outputs": [
    {
     "data": {
      "text/html": [
       "<div>\n",
       "<style scoped>\n",
       "    .dataframe tbody tr th:only-of-type {\n",
       "        vertical-align: middle;\n",
       "    }\n",
       "\n",
       "    .dataframe tbody tr th {\n",
       "        vertical-align: top;\n",
       "    }\n",
       "\n",
       "    .dataframe thead th {\n",
       "        text-align: right;\n",
       "    }\n",
       "</style>\n",
       "<table border=\"1\" class=\"dataframe\">\n",
       "  <thead>\n",
       "    <tr style=\"text-align: right;\">\n",
       "      <th></th>\n",
       "      <th>first_name</th>\n",
       "      <th>last_name</th>\n",
       "      <th>email</th>\n",
       "    </tr>\n",
       "  </thead>\n",
       "  <tbody>\n",
       "    <tr>\n",
       "      <th>0</th>\n",
       "      <td>Coery</td>\n",
       "      <td>Schafer</td>\n",
       "      <td>coerymschafer@gmail.com</td>\n",
       "    </tr>\n",
       "    <tr>\n",
       "      <th>1</th>\n",
       "      <td>Jane</td>\n",
       "      <td>Doe</td>\n",
       "      <td>janedoe@gmail.com</td>\n",
       "    </tr>\n",
       "    <tr>\n",
       "      <th>2</th>\n",
       "      <td>John</td>\n",
       "      <td>Smith</td>\n",
       "      <td>johndoe@gmail.com</td>\n",
       "    </tr>\n",
       "  </tbody>\n",
       "</table>\n",
       "</div>"
      ],
      "text/plain": [
       "  first_name last_name                    email\n",
       "0      Coery   Schafer  coerymschafer@gmail.com\n",
       "1       Jane       Doe        janedoe@gmail.com\n",
       "2       John     Smith        johndoe@gmail.com"
      ]
     },
     "execution_count": 210,
     "metadata": {},
     "output_type": "execute_result"
    }
   ],
   "source": [
    "df"
   ]
  },
  {
   "cell_type": "code",
   "execution_count": 212,
   "id": "5e9d26f4",
   "metadata": {},
   "outputs": [],
   "source": [
    "# On DataFrame Objects"
   ]
  },
  {
   "cell_type": "code",
   "execution_count": 213,
   "id": "273e310e",
   "metadata": {},
   "outputs": [],
   "source": [
    "# Q. find the min value in each column\n",
    "\n",
    "# Syntax : <DataFrame name>.apply(pd.Series.min)"
   ]
  },
  {
   "cell_type": "code",
   "execution_count": 216,
   "id": "5914d6c4",
   "metadata": {},
   "outputs": [
    {
     "data": {
      "text/plain": [
       "first_name                      Coery\n",
       "last_name                         Doe\n",
       "email         coerymschafer@gmail.com\n",
       "dtype: object"
      ]
     },
     "execution_count": 216,
     "metadata": {},
     "output_type": "execute_result"
    }
   ],
   "source": [
    "df.apply(pd.Series.min)"
   ]
  },
  {
   "cell_type": "code",
   "execution_count": 217,
   "id": "9f56e1d5",
   "metadata": {},
   "outputs": [],
   "source": [
    "# Q. find the max value in each column\n",
    "\n",
    "# Syntax : <DataFrame name>.apply(pd.Series.max)"
   ]
  },
  {
   "cell_type": "code",
   "execution_count": 218,
   "id": "e9bba6f8",
   "metadata": {},
   "outputs": [
    {
     "data": {
      "text/plain": [
       "first_name                 John\n",
       "last_name                 Smith\n",
       "email         johndoe@gmail.com\n",
       "dtype: object"
      ]
     },
     "execution_count": 218,
     "metadata": {},
     "output_type": "execute_result"
    }
   ],
   "source": [
    "df.apply(pd.Series.max)"
   ]
  },
  {
   "cell_type": "code",
   "execution_count": 219,
   "id": "c8bb65f5",
   "metadata": {},
   "outputs": [
    {
     "data": {
      "text/plain": [
       "first_name                      Coery\n",
       "last_name                         Doe\n",
       "email         coerymschafer@gmail.com\n",
       "dtype: object"
      ]
     },
     "execution_count": 219,
     "metadata": {},
     "output_type": "execute_result"
    }
   ],
   "source": [
    "#Or,\n",
    "df.apply(lambda x : x.min())"
   ]
  },
  {
   "cell_type": "markdown",
   "id": "bba7e050",
   "metadata": {},
   "source": [
    "# applymap()"
   ]
  },
  {
   "cell_type": "code",
   "execution_count": 221,
   "id": "98fe00ec",
   "metadata": {},
   "outputs": [],
   "source": [
    "# applymap() only use for dataframe objects\n",
    "# it will check every each individual elements one by one present inside dataframe\n"
   ]
  },
  {
   "cell_type": "code",
   "execution_count": 228,
   "id": "97ce29b0",
   "metadata": {},
   "outputs": [
    {
     "data": {
      "text/html": [
       "<div>\n",
       "<style scoped>\n",
       "    .dataframe tbody tr th:only-of-type {\n",
       "        vertical-align: middle;\n",
       "    }\n",
       "\n",
       "    .dataframe tbody tr th {\n",
       "        vertical-align: top;\n",
       "    }\n",
       "\n",
       "    .dataframe thead th {\n",
       "        text-align: right;\n",
       "    }\n",
       "</style>\n",
       "<table border=\"1\" class=\"dataframe\">\n",
       "  <thead>\n",
       "    <tr style=\"text-align: right;\">\n",
       "      <th></th>\n",
       "      <th>first_name</th>\n",
       "      <th>last_name</th>\n",
       "      <th>email</th>\n",
       "    </tr>\n",
       "  </thead>\n",
       "  <tbody>\n",
       "    <tr>\n",
       "      <th>0</th>\n",
       "      <td>5</td>\n",
       "      <td>7</td>\n",
       "      <td>23</td>\n",
       "    </tr>\n",
       "    <tr>\n",
       "      <th>1</th>\n",
       "      <td>4</td>\n",
       "      <td>3</td>\n",
       "      <td>17</td>\n",
       "    </tr>\n",
       "    <tr>\n",
       "      <th>2</th>\n",
       "      <td>4</td>\n",
       "      <td>5</td>\n",
       "      <td>17</td>\n",
       "    </tr>\n",
       "  </tbody>\n",
       "</table>\n",
       "</div>"
      ],
      "text/plain": [
       "   first_name  last_name  email\n",
       "0           5          7     23\n",
       "1           4          3     17\n",
       "2           4          5     17"
      ]
     },
     "execution_count": 228,
     "metadata": {},
     "output_type": "execute_result"
    }
   ],
   "source": [
    "# Q. find each every elements length present in dataframe\n",
    "\n",
    "# Syntax : <DataFrame Name>.applymap(len)\n",
    "\n",
    "\n",
    "df.applymap(len)\n",
    "\n",
    "#or,\n",
    "\n",
    "# df.applymap(lambda x: len(x))"
   ]
  },
  {
   "cell_type": "code",
   "execution_count": null,
   "id": "de42f9aa",
   "metadata": {},
   "outputs": [],
   "source": []
  },
  {
   "cell_type": "markdown",
   "id": "2d5d2b3a",
   "metadata": {},
   "source": [
    "# map()"
   ]
  },
  {
   "cell_type": "code",
   "execution_count": 230,
   "id": "277d7871",
   "metadata": {},
   "outputs": [],
   "source": [
    "# map() function only works on Series objects\n",
    "# so, map() is for substituting in each value in a series with a another value.\n"
   ]
  },
  {
   "cell_type": "code",
   "execution_count": 234,
   "id": "7d6e08ec",
   "metadata": {},
   "outputs": [
    {
     "data": {
      "text/plain": [
       "0    Chris\n",
       "1     Mary\n",
       "2      NaN\n",
       "Name: first_name, dtype: object"
      ]
     },
     "execution_count": 234,
     "metadata": {},
     "output_type": "execute_result"
    }
   ],
   "source": [
    "df['first_name'].map({'Coery':'Chris','Jane':'Mary'}) "
   ]
  },
  {
   "cell_type": "code",
   "execution_count": 235,
   "id": "59a81408",
   "metadata": {},
   "outputs": [],
   "source": [
    "# If coressponding value is not there then it wil return NaN value,\n",
    "# So, for this we should go for replace() method,"
   ]
  },
  {
   "cell_type": "markdown",
   "id": "8e44226e",
   "metadata": {},
   "source": [
    "# replace()"
   ]
  },
  {
   "cell_type": "code",
   "execution_count": 236,
   "id": "a34adb68",
   "metadata": {},
   "outputs": [],
   "source": [
    "# It will replace the matching value with given coresponding value, and return all value with replaced value"
   ]
  },
  {
   "cell_type": "code",
   "execution_count": 237,
   "id": "37301731",
   "metadata": {},
   "outputs": [
    {
     "data": {
      "text/plain": [
       "0    Chris\n",
       "1     Mary\n",
       "2     John\n",
       "Name: first_name, dtype: object"
      ]
     },
     "execution_count": 237,
     "metadata": {},
     "output_type": "execute_result"
    }
   ],
   "source": [
    "df['first_name'].replace({'Coery':'Chris','Jane':'Mary'}) "
   ]
  },
  {
   "cell_type": "code",
   "execution_count": null,
   "id": "0ee97008",
   "metadata": {},
   "outputs": [],
   "source": []
  },
  {
   "cell_type": "markdown",
   "id": "8f0c7666",
   "metadata": {},
   "source": [
    "# Work with huge data set"
   ]
  },
  {
   "cell_type": "code",
   "execution_count": 263,
   "id": "9b8eea30",
   "metadata": {},
   "outputs": [],
   "source": [
    "survey_df=pd.read_csv('E:\\Aroha Tech\\Pandas Session\\Pandas\\Developer Survey 2020\\survey_results_public.csv', index_col='Respondent')\n",
    "\n",
    "schema_df=pd.read_csv('E:\\Aroha Tech\\Pandas Session\\Pandas\\Developer Survey 2020\\survey_results_schema.csv', index_col=\"Column\")"
   ]
  },
  {
   "cell_type": "code",
   "execution_count": 241,
   "id": "cdfbdf07",
   "metadata": {},
   "outputs": [],
   "source": [
    "\n",
    "survey_df.rename(columns={'ConvertedComp':'SalaryUSD'}, inplace=True)"
   ]
  },
  {
   "cell_type": "code",
   "execution_count": 242,
   "id": "18d283b2",
   "metadata": {},
   "outputs": [
    {
     "data": {
      "text/html": [
       "<div>\n",
       "<style scoped>\n",
       "    .dataframe tbody tr th:only-of-type {\n",
       "        vertical-align: middle;\n",
       "    }\n",
       "\n",
       "    .dataframe tbody tr th {\n",
       "        vertical-align: top;\n",
       "    }\n",
       "\n",
       "    .dataframe thead th {\n",
       "        text-align: right;\n",
       "    }\n",
       "</style>\n",
       "<table border=\"1\" class=\"dataframe\">\n",
       "  <thead>\n",
       "    <tr style=\"text-align: right;\">\n",
       "      <th></th>\n",
       "      <th>MainBranch</th>\n",
       "      <th>Hobbyist</th>\n",
       "      <th>Age</th>\n",
       "      <th>Age1stCode</th>\n",
       "      <th>CompFreq</th>\n",
       "      <th>CompTotal</th>\n",
       "      <th>SalaryUSD</th>\n",
       "      <th>Country</th>\n",
       "      <th>CurrencyDesc</th>\n",
       "      <th>CurrencySymbol</th>\n",
       "      <th>...</th>\n",
       "      <th>SurveyEase</th>\n",
       "      <th>SurveyLength</th>\n",
       "      <th>Trans</th>\n",
       "      <th>UndergradMajor</th>\n",
       "      <th>WebframeDesireNextYear</th>\n",
       "      <th>WebframeWorkedWith</th>\n",
       "      <th>WelcomeChange</th>\n",
       "      <th>WorkWeekHrs</th>\n",
       "      <th>YearsCode</th>\n",
       "      <th>YearsCodePro</th>\n",
       "    </tr>\n",
       "    <tr>\n",
       "      <th>Respondent</th>\n",
       "      <th></th>\n",
       "      <th></th>\n",
       "      <th></th>\n",
       "      <th></th>\n",
       "      <th></th>\n",
       "      <th></th>\n",
       "      <th></th>\n",
       "      <th></th>\n",
       "      <th></th>\n",
       "      <th></th>\n",
       "      <th></th>\n",
       "      <th></th>\n",
       "      <th></th>\n",
       "      <th></th>\n",
       "      <th></th>\n",
       "      <th></th>\n",
       "      <th></th>\n",
       "      <th></th>\n",
       "      <th></th>\n",
       "      <th></th>\n",
       "      <th></th>\n",
       "    </tr>\n",
       "  </thead>\n",
       "  <tbody>\n",
       "    <tr>\n",
       "      <th>1</th>\n",
       "      <td>I am a developer by profession</td>\n",
       "      <td>Yes</td>\n",
       "      <td>NaN</td>\n",
       "      <td>13</td>\n",
       "      <td>Monthly</td>\n",
       "      <td>NaN</td>\n",
       "      <td>NaN</td>\n",
       "      <td>Germany</td>\n",
       "      <td>European Euro</td>\n",
       "      <td>EUR</td>\n",
       "      <td>...</td>\n",
       "      <td>Neither easy nor difficult</td>\n",
       "      <td>Appropriate in length</td>\n",
       "      <td>No</td>\n",
       "      <td>Computer science, computer engineering, or sof...</td>\n",
       "      <td>ASP.NET Core</td>\n",
       "      <td>ASP.NET;ASP.NET Core</td>\n",
       "      <td>Just as welcome now as I felt last year</td>\n",
       "      <td>50.0</td>\n",
       "      <td>36</td>\n",
       "      <td>27</td>\n",
       "    </tr>\n",
       "    <tr>\n",
       "      <th>2</th>\n",
       "      <td>I am a developer by profession</td>\n",
       "      <td>No</td>\n",
       "      <td>NaN</td>\n",
       "      <td>19</td>\n",
       "      <td>NaN</td>\n",
       "      <td>NaN</td>\n",
       "      <td>NaN</td>\n",
       "      <td>United Kingdom</td>\n",
       "      <td>Pound sterling</td>\n",
       "      <td>GBP</td>\n",
       "      <td>...</td>\n",
       "      <td>NaN</td>\n",
       "      <td>NaN</td>\n",
       "      <td>NaN</td>\n",
       "      <td>Computer science, computer engineering, or sof...</td>\n",
       "      <td>NaN</td>\n",
       "      <td>NaN</td>\n",
       "      <td>Somewhat more welcome now than last year</td>\n",
       "      <td>NaN</td>\n",
       "      <td>7</td>\n",
       "      <td>4</td>\n",
       "    </tr>\n",
       "    <tr>\n",
       "      <th>3</th>\n",
       "      <td>I code primarily as a hobby</td>\n",
       "      <td>Yes</td>\n",
       "      <td>NaN</td>\n",
       "      <td>15</td>\n",
       "      <td>NaN</td>\n",
       "      <td>NaN</td>\n",
       "      <td>NaN</td>\n",
       "      <td>Russian Federation</td>\n",
       "      <td>NaN</td>\n",
       "      <td>NaN</td>\n",
       "      <td>...</td>\n",
       "      <td>Neither easy nor difficult</td>\n",
       "      <td>Appropriate in length</td>\n",
       "      <td>NaN</td>\n",
       "      <td>NaN</td>\n",
       "      <td>NaN</td>\n",
       "      <td>NaN</td>\n",
       "      <td>Somewhat more welcome now than last year</td>\n",
       "      <td>NaN</td>\n",
       "      <td>4</td>\n",
       "      <td>NaN</td>\n",
       "    </tr>\n",
       "    <tr>\n",
       "      <th>4</th>\n",
       "      <td>I am a developer by profession</td>\n",
       "      <td>Yes</td>\n",
       "      <td>25.0</td>\n",
       "      <td>18</td>\n",
       "      <td>NaN</td>\n",
       "      <td>NaN</td>\n",
       "      <td>NaN</td>\n",
       "      <td>Albania</td>\n",
       "      <td>Albanian lek</td>\n",
       "      <td>ALL</td>\n",
       "      <td>...</td>\n",
       "      <td>NaN</td>\n",
       "      <td>NaN</td>\n",
       "      <td>No</td>\n",
       "      <td>Computer science, computer engineering, or sof...</td>\n",
       "      <td>NaN</td>\n",
       "      <td>NaN</td>\n",
       "      <td>Somewhat less welcome now than last year</td>\n",
       "      <td>40.0</td>\n",
       "      <td>7</td>\n",
       "      <td>4</td>\n",
       "    </tr>\n",
       "    <tr>\n",
       "      <th>5</th>\n",
       "      <td>I used to be a developer by profession, but no...</td>\n",
       "      <td>Yes</td>\n",
       "      <td>31.0</td>\n",
       "      <td>16</td>\n",
       "      <td>NaN</td>\n",
       "      <td>NaN</td>\n",
       "      <td>NaN</td>\n",
       "      <td>United States</td>\n",
       "      <td>NaN</td>\n",
       "      <td>NaN</td>\n",
       "      <td>...</td>\n",
       "      <td>Easy</td>\n",
       "      <td>Too short</td>\n",
       "      <td>No</td>\n",
       "      <td>Computer science, computer engineering, or sof...</td>\n",
       "      <td>Django;Ruby on Rails</td>\n",
       "      <td>Ruby on Rails</td>\n",
       "      <td>Just as welcome now as I felt last year</td>\n",
       "      <td>NaN</td>\n",
       "      <td>15</td>\n",
       "      <td>8</td>\n",
       "    </tr>\n",
       "    <tr>\n",
       "      <th>...</th>\n",
       "      <td>...</td>\n",
       "      <td>...</td>\n",
       "      <td>...</td>\n",
       "      <td>...</td>\n",
       "      <td>...</td>\n",
       "      <td>...</td>\n",
       "      <td>...</td>\n",
       "      <td>...</td>\n",
       "      <td>...</td>\n",
       "      <td>...</td>\n",
       "      <td>...</td>\n",
       "      <td>...</td>\n",
       "      <td>...</td>\n",
       "      <td>...</td>\n",
       "      <td>...</td>\n",
       "      <td>...</td>\n",
       "      <td>...</td>\n",
       "      <td>...</td>\n",
       "      <td>...</td>\n",
       "      <td>...</td>\n",
       "      <td>...</td>\n",
       "    </tr>\n",
       "    <tr>\n",
       "      <th>64858</th>\n",
       "      <td>NaN</td>\n",
       "      <td>Yes</td>\n",
       "      <td>NaN</td>\n",
       "      <td>16</td>\n",
       "      <td>NaN</td>\n",
       "      <td>NaN</td>\n",
       "      <td>NaN</td>\n",
       "      <td>United States</td>\n",
       "      <td>NaN</td>\n",
       "      <td>NaN</td>\n",
       "      <td>...</td>\n",
       "      <td>NaN</td>\n",
       "      <td>NaN</td>\n",
       "      <td>NaN</td>\n",
       "      <td>Computer science, computer engineering, or sof...</td>\n",
       "      <td>NaN</td>\n",
       "      <td>NaN</td>\n",
       "      <td>NaN</td>\n",
       "      <td>NaN</td>\n",
       "      <td>10</td>\n",
       "      <td>Less than 1 year</td>\n",
       "    </tr>\n",
       "    <tr>\n",
       "      <th>64867</th>\n",
       "      <td>NaN</td>\n",
       "      <td>Yes</td>\n",
       "      <td>NaN</td>\n",
       "      <td>NaN</td>\n",
       "      <td>NaN</td>\n",
       "      <td>NaN</td>\n",
       "      <td>NaN</td>\n",
       "      <td>Morocco</td>\n",
       "      <td>NaN</td>\n",
       "      <td>NaN</td>\n",
       "      <td>...</td>\n",
       "      <td>NaN</td>\n",
       "      <td>NaN</td>\n",
       "      <td>NaN</td>\n",
       "      <td>NaN</td>\n",
       "      <td>NaN</td>\n",
       "      <td>NaN</td>\n",
       "      <td>NaN</td>\n",
       "      <td>NaN</td>\n",
       "      <td>NaN</td>\n",
       "      <td>NaN</td>\n",
       "    </tr>\n",
       "    <tr>\n",
       "      <th>64898</th>\n",
       "      <td>NaN</td>\n",
       "      <td>Yes</td>\n",
       "      <td>NaN</td>\n",
       "      <td>NaN</td>\n",
       "      <td>NaN</td>\n",
       "      <td>NaN</td>\n",
       "      <td>NaN</td>\n",
       "      <td>Viet Nam</td>\n",
       "      <td>NaN</td>\n",
       "      <td>NaN</td>\n",
       "      <td>...</td>\n",
       "      <td>NaN</td>\n",
       "      <td>NaN</td>\n",
       "      <td>NaN</td>\n",
       "      <td>NaN</td>\n",
       "      <td>NaN</td>\n",
       "      <td>NaN</td>\n",
       "      <td>NaN</td>\n",
       "      <td>NaN</td>\n",
       "      <td>NaN</td>\n",
       "      <td>NaN</td>\n",
       "    </tr>\n",
       "    <tr>\n",
       "      <th>64925</th>\n",
       "      <td>NaN</td>\n",
       "      <td>Yes</td>\n",
       "      <td>NaN</td>\n",
       "      <td>NaN</td>\n",
       "      <td>NaN</td>\n",
       "      <td>NaN</td>\n",
       "      <td>NaN</td>\n",
       "      <td>Poland</td>\n",
       "      <td>NaN</td>\n",
       "      <td>NaN</td>\n",
       "      <td>...</td>\n",
       "      <td>NaN</td>\n",
       "      <td>NaN</td>\n",
       "      <td>NaN</td>\n",
       "      <td>NaN</td>\n",
       "      <td>Angular;Angular.js;React.js</td>\n",
       "      <td>NaN</td>\n",
       "      <td>NaN</td>\n",
       "      <td>NaN</td>\n",
       "      <td>NaN</td>\n",
       "      <td>NaN</td>\n",
       "    </tr>\n",
       "    <tr>\n",
       "      <th>65112</th>\n",
       "      <td>NaN</td>\n",
       "      <td>Yes</td>\n",
       "      <td>NaN</td>\n",
       "      <td>NaN</td>\n",
       "      <td>NaN</td>\n",
       "      <td>NaN</td>\n",
       "      <td>NaN</td>\n",
       "      <td>Spain</td>\n",
       "      <td>NaN</td>\n",
       "      <td>NaN</td>\n",
       "      <td>...</td>\n",
       "      <td>NaN</td>\n",
       "      <td>NaN</td>\n",
       "      <td>NaN</td>\n",
       "      <td>Computer science, computer engineering, or sof...</td>\n",
       "      <td>ASP.NET Core;jQuery</td>\n",
       "      <td>Angular;Angular.js;ASP.NET Core;jQuery</td>\n",
       "      <td>NaN</td>\n",
       "      <td>NaN</td>\n",
       "      <td>NaN</td>\n",
       "      <td>NaN</td>\n",
       "    </tr>\n",
       "  </tbody>\n",
       "</table>\n",
       "<p>64461 rows × 60 columns</p>\n",
       "</div>"
      ],
      "text/plain": [
       "                                                   MainBranch Hobbyist   Age  \\\n",
       "Respondent                                                                     \n",
       "1                              I am a developer by profession      Yes   NaN   \n",
       "2                              I am a developer by profession       No   NaN   \n",
       "3                                 I code primarily as a hobby      Yes   NaN   \n",
       "4                              I am a developer by profession      Yes  25.0   \n",
       "5           I used to be a developer by profession, but no...      Yes  31.0   \n",
       "...                                                       ...      ...   ...   \n",
       "64858                                                     NaN      Yes   NaN   \n",
       "64867                                                     NaN      Yes   NaN   \n",
       "64898                                                     NaN      Yes   NaN   \n",
       "64925                                                     NaN      Yes   NaN   \n",
       "65112                                                     NaN      Yes   NaN   \n",
       "\n",
       "           Age1stCode CompFreq  CompTotal  SalaryUSD             Country  \\\n",
       "Respondent                                                                 \n",
       "1                  13  Monthly        NaN        NaN             Germany   \n",
       "2                  19      NaN        NaN        NaN      United Kingdom   \n",
       "3                  15      NaN        NaN        NaN  Russian Federation   \n",
       "4                  18      NaN        NaN        NaN             Albania   \n",
       "5                  16      NaN        NaN        NaN       United States   \n",
       "...               ...      ...        ...        ...                 ...   \n",
       "64858              16      NaN        NaN        NaN       United States   \n",
       "64867             NaN      NaN        NaN        NaN             Morocco   \n",
       "64898             NaN      NaN        NaN        NaN            Viet Nam   \n",
       "64925             NaN      NaN        NaN        NaN              Poland   \n",
       "65112             NaN      NaN        NaN        NaN               Spain   \n",
       "\n",
       "              CurrencyDesc CurrencySymbol  ...                  SurveyEase  \\\n",
       "Respondent                                 ...                               \n",
       "1            European Euro            EUR  ...  Neither easy nor difficult   \n",
       "2           Pound sterling            GBP  ...                         NaN   \n",
       "3                      NaN            NaN  ...  Neither easy nor difficult   \n",
       "4             Albanian lek            ALL  ...                         NaN   \n",
       "5                      NaN            NaN  ...                        Easy   \n",
       "...                    ...            ...  ...                         ...   \n",
       "64858                  NaN            NaN  ...                         NaN   \n",
       "64867                  NaN            NaN  ...                         NaN   \n",
       "64898                  NaN            NaN  ...                         NaN   \n",
       "64925                  NaN            NaN  ...                         NaN   \n",
       "65112                  NaN            NaN  ...                         NaN   \n",
       "\n",
       "                     SurveyLength Trans  \\\n",
       "Respondent                                \n",
       "1           Appropriate in length    No   \n",
       "2                             NaN   NaN   \n",
       "3           Appropriate in length   NaN   \n",
       "4                             NaN    No   \n",
       "5                       Too short    No   \n",
       "...                           ...   ...   \n",
       "64858                         NaN   NaN   \n",
       "64867                         NaN   NaN   \n",
       "64898                         NaN   NaN   \n",
       "64925                         NaN   NaN   \n",
       "65112                         NaN   NaN   \n",
       "\n",
       "                                               UndergradMajor  \\\n",
       "Respondent                                                      \n",
       "1           Computer science, computer engineering, or sof...   \n",
       "2           Computer science, computer engineering, or sof...   \n",
       "3                                                         NaN   \n",
       "4           Computer science, computer engineering, or sof...   \n",
       "5           Computer science, computer engineering, or sof...   \n",
       "...                                                       ...   \n",
       "64858       Computer science, computer engineering, or sof...   \n",
       "64867                                                     NaN   \n",
       "64898                                                     NaN   \n",
       "64925                                                     NaN   \n",
       "65112       Computer science, computer engineering, or sof...   \n",
       "\n",
       "                 WebframeDesireNextYear  \\\n",
       "Respondent                                \n",
       "1                          ASP.NET Core   \n",
       "2                                   NaN   \n",
       "3                                   NaN   \n",
       "4                                   NaN   \n",
       "5                  Django;Ruby on Rails   \n",
       "...                                 ...   \n",
       "64858                               NaN   \n",
       "64867                               NaN   \n",
       "64898                               NaN   \n",
       "64925       Angular;Angular.js;React.js   \n",
       "65112               ASP.NET Core;jQuery   \n",
       "\n",
       "                                WebframeWorkedWith  \\\n",
       "Respondent                                           \n",
       "1                             ASP.NET;ASP.NET Core   \n",
       "2                                              NaN   \n",
       "3                                              NaN   \n",
       "4                                              NaN   \n",
       "5                                    Ruby on Rails   \n",
       "...                                            ...   \n",
       "64858                                          NaN   \n",
       "64867                                          NaN   \n",
       "64898                                          NaN   \n",
       "64925                                          NaN   \n",
       "65112       Angular;Angular.js;ASP.NET Core;jQuery   \n",
       "\n",
       "                                       WelcomeChange WorkWeekHrs YearsCode  \\\n",
       "Respondent                                                                   \n",
       "1            Just as welcome now as I felt last year        50.0        36   \n",
       "2           Somewhat more welcome now than last year         NaN         7   \n",
       "3           Somewhat more welcome now than last year         NaN         4   \n",
       "4           Somewhat less welcome now than last year        40.0         7   \n",
       "5            Just as welcome now as I felt last year         NaN        15   \n",
       "...                                              ...         ...       ...   \n",
       "64858                                            NaN         NaN        10   \n",
       "64867                                            NaN         NaN       NaN   \n",
       "64898                                            NaN         NaN       NaN   \n",
       "64925                                            NaN         NaN       NaN   \n",
       "65112                                            NaN         NaN       NaN   \n",
       "\n",
       "                YearsCodePro  \n",
       "Respondent                    \n",
       "1                         27  \n",
       "2                          4  \n",
       "3                        NaN  \n",
       "4                          4  \n",
       "5                          8  \n",
       "...                      ...  \n",
       "64858       Less than 1 year  \n",
       "64867                    NaN  \n",
       "64898                    NaN  \n",
       "64925                    NaN  \n",
       "65112                    NaN  \n",
       "\n",
       "[64461 rows x 60 columns]"
      ]
     },
     "execution_count": 242,
     "metadata": {},
     "output_type": "execute_result"
    }
   ],
   "source": [
    "survey_df"
   ]
  },
  {
   "cell_type": "code",
   "execution_count": 243,
   "id": "e3fa0867",
   "metadata": {},
   "outputs": [],
   "source": [
    "#Q. Convert Hobbyist column values in to boolean value"
   ]
  },
  {
   "cell_type": "code",
   "execution_count": 251,
   "id": "e16b5361",
   "metadata": {},
   "outputs": [
    {
     "data": {
      "text/plain": [
       "Yes    50388\n",
       "No     14028\n",
       "Name: Hobbyist, dtype: int64"
      ]
     },
     "execution_count": 251,
     "metadata": {},
     "output_type": "execute_result"
    }
   ],
   "source": [
    "survey_df['Hobbyist'].value_counts()"
   ]
  },
  {
   "cell_type": "code",
   "execution_count": 252,
   "id": "4e422eeb",
   "metadata": {},
   "outputs": [],
   "source": [
    "survey_df['Hobbyist']=survey_df['Hobbyist'].map({'Yes':'True','No':'False'})"
   ]
  },
  {
   "cell_type": "code",
   "execution_count": 253,
   "id": "a9bc744f",
   "metadata": {},
   "outputs": [
    {
     "data": {
      "text/html": [
       "<div>\n",
       "<style scoped>\n",
       "    .dataframe tbody tr th:only-of-type {\n",
       "        vertical-align: middle;\n",
       "    }\n",
       "\n",
       "    .dataframe tbody tr th {\n",
       "        vertical-align: top;\n",
       "    }\n",
       "\n",
       "    .dataframe thead th {\n",
       "        text-align: right;\n",
       "    }\n",
       "</style>\n",
       "<table border=\"1\" class=\"dataframe\">\n",
       "  <thead>\n",
       "    <tr style=\"text-align: right;\">\n",
       "      <th></th>\n",
       "      <th>MainBranch</th>\n",
       "      <th>Hobbyist</th>\n",
       "      <th>Age</th>\n",
       "      <th>Age1stCode</th>\n",
       "      <th>CompFreq</th>\n",
       "      <th>CompTotal</th>\n",
       "      <th>ConvertedComp</th>\n",
       "      <th>Country</th>\n",
       "      <th>CurrencyDesc</th>\n",
       "      <th>CurrencySymbol</th>\n",
       "      <th>...</th>\n",
       "      <th>SurveyEase</th>\n",
       "      <th>SurveyLength</th>\n",
       "      <th>Trans</th>\n",
       "      <th>UndergradMajor</th>\n",
       "      <th>WebframeDesireNextYear</th>\n",
       "      <th>WebframeWorkedWith</th>\n",
       "      <th>WelcomeChange</th>\n",
       "      <th>WorkWeekHrs</th>\n",
       "      <th>YearsCode</th>\n",
       "      <th>YearsCodePro</th>\n",
       "    </tr>\n",
       "    <tr>\n",
       "      <th>Respondent</th>\n",
       "      <th></th>\n",
       "      <th></th>\n",
       "      <th></th>\n",
       "      <th></th>\n",
       "      <th></th>\n",
       "      <th></th>\n",
       "      <th></th>\n",
       "      <th></th>\n",
       "      <th></th>\n",
       "      <th></th>\n",
       "      <th></th>\n",
       "      <th></th>\n",
       "      <th></th>\n",
       "      <th></th>\n",
       "      <th></th>\n",
       "      <th></th>\n",
       "      <th></th>\n",
       "      <th></th>\n",
       "      <th></th>\n",
       "      <th></th>\n",
       "      <th></th>\n",
       "    </tr>\n",
       "  </thead>\n",
       "  <tbody>\n",
       "    <tr>\n",
       "      <th>1</th>\n",
       "      <td>I am a developer by profession</td>\n",
       "      <td>True</td>\n",
       "      <td>NaN</td>\n",
       "      <td>13</td>\n",
       "      <td>Monthly</td>\n",
       "      <td>NaN</td>\n",
       "      <td>NaN</td>\n",
       "      <td>Germany</td>\n",
       "      <td>European Euro</td>\n",
       "      <td>EUR</td>\n",
       "      <td>...</td>\n",
       "      <td>Neither easy nor difficult</td>\n",
       "      <td>Appropriate in length</td>\n",
       "      <td>No</td>\n",
       "      <td>Computer science, computer engineering, or sof...</td>\n",
       "      <td>ASP.NET Core</td>\n",
       "      <td>ASP.NET;ASP.NET Core</td>\n",
       "      <td>Just as welcome now as I felt last year</td>\n",
       "      <td>50.0</td>\n",
       "      <td>36</td>\n",
       "      <td>27</td>\n",
       "    </tr>\n",
       "    <tr>\n",
       "      <th>2</th>\n",
       "      <td>I am a developer by profession</td>\n",
       "      <td>False</td>\n",
       "      <td>NaN</td>\n",
       "      <td>19</td>\n",
       "      <td>NaN</td>\n",
       "      <td>NaN</td>\n",
       "      <td>NaN</td>\n",
       "      <td>United Kingdom</td>\n",
       "      <td>Pound sterling</td>\n",
       "      <td>GBP</td>\n",
       "      <td>...</td>\n",
       "      <td>NaN</td>\n",
       "      <td>NaN</td>\n",
       "      <td>NaN</td>\n",
       "      <td>Computer science, computer engineering, or sof...</td>\n",
       "      <td>NaN</td>\n",
       "      <td>NaN</td>\n",
       "      <td>Somewhat more welcome now than last year</td>\n",
       "      <td>NaN</td>\n",
       "      <td>7</td>\n",
       "      <td>4</td>\n",
       "    </tr>\n",
       "    <tr>\n",
       "      <th>3</th>\n",
       "      <td>I code primarily as a hobby</td>\n",
       "      <td>True</td>\n",
       "      <td>NaN</td>\n",
       "      <td>15</td>\n",
       "      <td>NaN</td>\n",
       "      <td>NaN</td>\n",
       "      <td>NaN</td>\n",
       "      <td>Russian Federation</td>\n",
       "      <td>NaN</td>\n",
       "      <td>NaN</td>\n",
       "      <td>...</td>\n",
       "      <td>Neither easy nor difficult</td>\n",
       "      <td>Appropriate in length</td>\n",
       "      <td>NaN</td>\n",
       "      <td>NaN</td>\n",
       "      <td>NaN</td>\n",
       "      <td>NaN</td>\n",
       "      <td>Somewhat more welcome now than last year</td>\n",
       "      <td>NaN</td>\n",
       "      <td>4</td>\n",
       "      <td>NaN</td>\n",
       "    </tr>\n",
       "    <tr>\n",
       "      <th>4</th>\n",
       "      <td>I am a developer by profession</td>\n",
       "      <td>True</td>\n",
       "      <td>25.0</td>\n",
       "      <td>18</td>\n",
       "      <td>NaN</td>\n",
       "      <td>NaN</td>\n",
       "      <td>NaN</td>\n",
       "      <td>Albania</td>\n",
       "      <td>Albanian lek</td>\n",
       "      <td>ALL</td>\n",
       "      <td>...</td>\n",
       "      <td>NaN</td>\n",
       "      <td>NaN</td>\n",
       "      <td>No</td>\n",
       "      <td>Computer science, computer engineering, or sof...</td>\n",
       "      <td>NaN</td>\n",
       "      <td>NaN</td>\n",
       "      <td>Somewhat less welcome now than last year</td>\n",
       "      <td>40.0</td>\n",
       "      <td>7</td>\n",
       "      <td>4</td>\n",
       "    </tr>\n",
       "    <tr>\n",
       "      <th>5</th>\n",
       "      <td>I used to be a developer by profession, but no...</td>\n",
       "      <td>True</td>\n",
       "      <td>31.0</td>\n",
       "      <td>16</td>\n",
       "      <td>NaN</td>\n",
       "      <td>NaN</td>\n",
       "      <td>NaN</td>\n",
       "      <td>United States</td>\n",
       "      <td>NaN</td>\n",
       "      <td>NaN</td>\n",
       "      <td>...</td>\n",
       "      <td>Easy</td>\n",
       "      <td>Too short</td>\n",
       "      <td>No</td>\n",
       "      <td>Computer science, computer engineering, or sof...</td>\n",
       "      <td>Django;Ruby on Rails</td>\n",
       "      <td>Ruby on Rails</td>\n",
       "      <td>Just as welcome now as I felt last year</td>\n",
       "      <td>NaN</td>\n",
       "      <td>15</td>\n",
       "      <td>8</td>\n",
       "    </tr>\n",
       "    <tr>\n",
       "      <th>...</th>\n",
       "      <td>...</td>\n",
       "      <td>...</td>\n",
       "      <td>...</td>\n",
       "      <td>...</td>\n",
       "      <td>...</td>\n",
       "      <td>...</td>\n",
       "      <td>...</td>\n",
       "      <td>...</td>\n",
       "      <td>...</td>\n",
       "      <td>...</td>\n",
       "      <td>...</td>\n",
       "      <td>...</td>\n",
       "      <td>...</td>\n",
       "      <td>...</td>\n",
       "      <td>...</td>\n",
       "      <td>...</td>\n",
       "      <td>...</td>\n",
       "      <td>...</td>\n",
       "      <td>...</td>\n",
       "      <td>...</td>\n",
       "      <td>...</td>\n",
       "    </tr>\n",
       "    <tr>\n",
       "      <th>64858</th>\n",
       "      <td>NaN</td>\n",
       "      <td>True</td>\n",
       "      <td>NaN</td>\n",
       "      <td>16</td>\n",
       "      <td>NaN</td>\n",
       "      <td>NaN</td>\n",
       "      <td>NaN</td>\n",
       "      <td>United States</td>\n",
       "      <td>NaN</td>\n",
       "      <td>NaN</td>\n",
       "      <td>...</td>\n",
       "      <td>NaN</td>\n",
       "      <td>NaN</td>\n",
       "      <td>NaN</td>\n",
       "      <td>Computer science, computer engineering, or sof...</td>\n",
       "      <td>NaN</td>\n",
       "      <td>NaN</td>\n",
       "      <td>NaN</td>\n",
       "      <td>NaN</td>\n",
       "      <td>10</td>\n",
       "      <td>Less than 1 year</td>\n",
       "    </tr>\n",
       "    <tr>\n",
       "      <th>64867</th>\n",
       "      <td>NaN</td>\n",
       "      <td>True</td>\n",
       "      <td>NaN</td>\n",
       "      <td>NaN</td>\n",
       "      <td>NaN</td>\n",
       "      <td>NaN</td>\n",
       "      <td>NaN</td>\n",
       "      <td>Morocco</td>\n",
       "      <td>NaN</td>\n",
       "      <td>NaN</td>\n",
       "      <td>...</td>\n",
       "      <td>NaN</td>\n",
       "      <td>NaN</td>\n",
       "      <td>NaN</td>\n",
       "      <td>NaN</td>\n",
       "      <td>NaN</td>\n",
       "      <td>NaN</td>\n",
       "      <td>NaN</td>\n",
       "      <td>NaN</td>\n",
       "      <td>NaN</td>\n",
       "      <td>NaN</td>\n",
       "    </tr>\n",
       "    <tr>\n",
       "      <th>64898</th>\n",
       "      <td>NaN</td>\n",
       "      <td>True</td>\n",
       "      <td>NaN</td>\n",
       "      <td>NaN</td>\n",
       "      <td>NaN</td>\n",
       "      <td>NaN</td>\n",
       "      <td>NaN</td>\n",
       "      <td>Viet Nam</td>\n",
       "      <td>NaN</td>\n",
       "      <td>NaN</td>\n",
       "      <td>...</td>\n",
       "      <td>NaN</td>\n",
       "      <td>NaN</td>\n",
       "      <td>NaN</td>\n",
       "      <td>NaN</td>\n",
       "      <td>NaN</td>\n",
       "      <td>NaN</td>\n",
       "      <td>NaN</td>\n",
       "      <td>NaN</td>\n",
       "      <td>NaN</td>\n",
       "      <td>NaN</td>\n",
       "    </tr>\n",
       "    <tr>\n",
       "      <th>64925</th>\n",
       "      <td>NaN</td>\n",
       "      <td>True</td>\n",
       "      <td>NaN</td>\n",
       "      <td>NaN</td>\n",
       "      <td>NaN</td>\n",
       "      <td>NaN</td>\n",
       "      <td>NaN</td>\n",
       "      <td>Poland</td>\n",
       "      <td>NaN</td>\n",
       "      <td>NaN</td>\n",
       "      <td>...</td>\n",
       "      <td>NaN</td>\n",
       "      <td>NaN</td>\n",
       "      <td>NaN</td>\n",
       "      <td>NaN</td>\n",
       "      <td>Angular;Angular.js;React.js</td>\n",
       "      <td>NaN</td>\n",
       "      <td>NaN</td>\n",
       "      <td>NaN</td>\n",
       "      <td>NaN</td>\n",
       "      <td>NaN</td>\n",
       "    </tr>\n",
       "    <tr>\n",
       "      <th>65112</th>\n",
       "      <td>NaN</td>\n",
       "      <td>True</td>\n",
       "      <td>NaN</td>\n",
       "      <td>NaN</td>\n",
       "      <td>NaN</td>\n",
       "      <td>NaN</td>\n",
       "      <td>NaN</td>\n",
       "      <td>Spain</td>\n",
       "      <td>NaN</td>\n",
       "      <td>NaN</td>\n",
       "      <td>...</td>\n",
       "      <td>NaN</td>\n",
       "      <td>NaN</td>\n",
       "      <td>NaN</td>\n",
       "      <td>Computer science, computer engineering, or sof...</td>\n",
       "      <td>ASP.NET Core;jQuery</td>\n",
       "      <td>Angular;Angular.js;ASP.NET Core;jQuery</td>\n",
       "      <td>NaN</td>\n",
       "      <td>NaN</td>\n",
       "      <td>NaN</td>\n",
       "      <td>NaN</td>\n",
       "    </tr>\n",
       "  </tbody>\n",
       "</table>\n",
       "<p>64461 rows × 60 columns</p>\n",
       "</div>"
      ],
      "text/plain": [
       "                                                   MainBranch Hobbyist   Age  \\\n",
       "Respondent                                                                     \n",
       "1                              I am a developer by profession     True   NaN   \n",
       "2                              I am a developer by profession    False   NaN   \n",
       "3                                 I code primarily as a hobby     True   NaN   \n",
       "4                              I am a developer by profession     True  25.0   \n",
       "5           I used to be a developer by profession, but no...     True  31.0   \n",
       "...                                                       ...      ...   ...   \n",
       "64858                                                     NaN     True   NaN   \n",
       "64867                                                     NaN     True   NaN   \n",
       "64898                                                     NaN     True   NaN   \n",
       "64925                                                     NaN     True   NaN   \n",
       "65112                                                     NaN     True   NaN   \n",
       "\n",
       "           Age1stCode CompFreq  CompTotal  ConvertedComp             Country  \\\n",
       "Respondent                                                                     \n",
       "1                  13  Monthly        NaN            NaN             Germany   \n",
       "2                  19      NaN        NaN            NaN      United Kingdom   \n",
       "3                  15      NaN        NaN            NaN  Russian Federation   \n",
       "4                  18      NaN        NaN            NaN             Albania   \n",
       "5                  16      NaN        NaN            NaN       United States   \n",
       "...               ...      ...        ...            ...                 ...   \n",
       "64858              16      NaN        NaN            NaN       United States   \n",
       "64867             NaN      NaN        NaN            NaN             Morocco   \n",
       "64898             NaN      NaN        NaN            NaN            Viet Nam   \n",
       "64925             NaN      NaN        NaN            NaN              Poland   \n",
       "65112             NaN      NaN        NaN            NaN               Spain   \n",
       "\n",
       "              CurrencyDesc CurrencySymbol  ...                  SurveyEase  \\\n",
       "Respondent                                 ...                               \n",
       "1            European Euro            EUR  ...  Neither easy nor difficult   \n",
       "2           Pound sterling            GBP  ...                         NaN   \n",
       "3                      NaN            NaN  ...  Neither easy nor difficult   \n",
       "4             Albanian lek            ALL  ...                         NaN   \n",
       "5                      NaN            NaN  ...                        Easy   \n",
       "...                    ...            ...  ...                         ...   \n",
       "64858                  NaN            NaN  ...                         NaN   \n",
       "64867                  NaN            NaN  ...                         NaN   \n",
       "64898                  NaN            NaN  ...                         NaN   \n",
       "64925                  NaN            NaN  ...                         NaN   \n",
       "65112                  NaN            NaN  ...                         NaN   \n",
       "\n",
       "                     SurveyLength Trans  \\\n",
       "Respondent                                \n",
       "1           Appropriate in length    No   \n",
       "2                             NaN   NaN   \n",
       "3           Appropriate in length   NaN   \n",
       "4                             NaN    No   \n",
       "5                       Too short    No   \n",
       "...                           ...   ...   \n",
       "64858                         NaN   NaN   \n",
       "64867                         NaN   NaN   \n",
       "64898                         NaN   NaN   \n",
       "64925                         NaN   NaN   \n",
       "65112                         NaN   NaN   \n",
       "\n",
       "                                               UndergradMajor  \\\n",
       "Respondent                                                      \n",
       "1           Computer science, computer engineering, or sof...   \n",
       "2           Computer science, computer engineering, or sof...   \n",
       "3                                                         NaN   \n",
       "4           Computer science, computer engineering, or sof...   \n",
       "5           Computer science, computer engineering, or sof...   \n",
       "...                                                       ...   \n",
       "64858       Computer science, computer engineering, or sof...   \n",
       "64867                                                     NaN   \n",
       "64898                                                     NaN   \n",
       "64925                                                     NaN   \n",
       "65112       Computer science, computer engineering, or sof...   \n",
       "\n",
       "                 WebframeDesireNextYear  \\\n",
       "Respondent                                \n",
       "1                          ASP.NET Core   \n",
       "2                                   NaN   \n",
       "3                                   NaN   \n",
       "4                                   NaN   \n",
       "5                  Django;Ruby on Rails   \n",
       "...                                 ...   \n",
       "64858                               NaN   \n",
       "64867                               NaN   \n",
       "64898                               NaN   \n",
       "64925       Angular;Angular.js;React.js   \n",
       "65112               ASP.NET Core;jQuery   \n",
       "\n",
       "                                WebframeWorkedWith  \\\n",
       "Respondent                                           \n",
       "1                             ASP.NET;ASP.NET Core   \n",
       "2                                              NaN   \n",
       "3                                              NaN   \n",
       "4                                              NaN   \n",
       "5                                    Ruby on Rails   \n",
       "...                                            ...   \n",
       "64858                                          NaN   \n",
       "64867                                          NaN   \n",
       "64898                                          NaN   \n",
       "64925                                          NaN   \n",
       "65112       Angular;Angular.js;ASP.NET Core;jQuery   \n",
       "\n",
       "                                       WelcomeChange WorkWeekHrs YearsCode  \\\n",
       "Respondent                                                                   \n",
       "1            Just as welcome now as I felt last year        50.0        36   \n",
       "2           Somewhat more welcome now than last year         NaN         7   \n",
       "3           Somewhat more welcome now than last year         NaN         4   \n",
       "4           Somewhat less welcome now than last year        40.0         7   \n",
       "5            Just as welcome now as I felt last year         NaN        15   \n",
       "...                                              ...         ...       ...   \n",
       "64858                                            NaN         NaN        10   \n",
       "64867                                            NaN         NaN       NaN   \n",
       "64898                                            NaN         NaN       NaN   \n",
       "64925                                            NaN         NaN       NaN   \n",
       "65112                                            NaN         NaN       NaN   \n",
       "\n",
       "                YearsCodePro  \n",
       "Respondent                    \n",
       "1                         27  \n",
       "2                          4  \n",
       "3                        NaN  \n",
       "4                          4  \n",
       "5                          8  \n",
       "...                      ...  \n",
       "64858       Less than 1 year  \n",
       "64867                    NaN  \n",
       "64898                    NaN  \n",
       "64925                    NaN  \n",
       "65112                    NaN  \n",
       "\n",
       "[64461 rows x 60 columns]"
      ]
     },
     "execution_count": 253,
     "metadata": {},
     "output_type": "execute_result"
    }
   ],
   "source": [
    "survey_df"
   ]
  },
  {
   "cell_type": "code",
   "execution_count": 254,
   "id": "49669274",
   "metadata": {},
   "outputs": [],
   "source": [
    "# If we want update some specific value and make other values remain untouched then we must go for replace() method.\n",
    "# if we go for map() method, then map() update the given value with the matching records , and make untouched/ unmatching\n",
    "# records to NaN value  "
   ]
  },
  {
   "cell_type": "code",
   "execution_count": 255,
   "id": "d78caf96",
   "metadata": {},
   "outputs": [],
   "source": [
    "survey_df['Hobbyist']=survey_df['Hobbyist'].replace({'Yes':'True','No':'False'})"
   ]
  },
  {
   "cell_type": "code",
   "execution_count": 256,
   "id": "db8d13b2",
   "metadata": {},
   "outputs": [
    {
     "data": {
      "text/plain": [
       "Yearly     19818\n",
       "Monthly    18899\n",
       "Weekly      1352\n",
       "Name: CompFreq, dtype: int64"
      ]
     },
     "execution_count": 256,
     "metadata": {},
     "output_type": "execute_result"
    }
   ],
   "source": [
    "survey_df['CompFreq'].value_counts()"
   ]
  },
  {
   "cell_type": "code",
   "execution_count": 262,
   "id": "9ff14a3d",
   "metadata": {},
   "outputs": [],
   "source": [
    "# survey_df['CompFreq']=survey_df['CompFreq'].map({'Weekly':'Daily'}) # It will update Weekly to Daily and make other value NaN\n",
    "#survey_df['CompFreq'].value_counts()  # For Check how meny type of value present after modify\n",
    "# So, Its better we go for replace() method instead of map()"
   ]
  },
  {
   "cell_type": "code",
   "execution_count": 267,
   "id": "a5916704",
   "metadata": {},
   "outputs": [],
   "source": [
    "survey_df['CompFreq']=survey_df['CompFreq'].replace({'Weekly':'Daily'})\n"
   ]
  },
  {
   "cell_type": "code",
   "execution_count": 269,
   "id": "9604b9a8",
   "metadata": {},
   "outputs": [
    {
     "data": {
      "text/plain": [
       "Yearly     19818\n",
       "Monthly    18899\n",
       "Daily       1352\n",
       "Name: CompFreq, dtype: int64"
      ]
     },
     "execution_count": 269,
     "metadata": {},
     "output_type": "execute_result"
    }
   ],
   "source": [
    "survey_df['CompFreq'].value_counts()"
   ]
  },
  {
   "cell_type": "code",
   "execution_count": null,
   "id": "43e31361",
   "metadata": {},
   "outputs": [],
   "source": []
  }
 ],
 "metadata": {
  "kernelspec": {
   "display_name": "Python 3",
   "language": "python",
   "name": "python3"
  },
  "language_info": {
   "codemirror_mode": {
    "name": "ipython",
    "version": 3
   },
   "file_extension": ".py",
   "mimetype": "text/x-python",
   "name": "python",
   "nbconvert_exporter": "python",
   "pygments_lexer": "ipython3",
   "version": "3.8.8"
  }
 },
 "nbformat": 4,
 "nbformat_minor": 5
}
