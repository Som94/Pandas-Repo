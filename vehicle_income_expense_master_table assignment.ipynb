{
 "cells": [
  {
   "cell_type": "code",
   "execution_count": 1,
   "id": "3ab54410",
   "metadata": {},
   "outputs": [],
   "source": [
    "import boto3,os"
   ]
  },
  {
   "cell_type": "code",
   "execution_count": 2,
   "id": "2c692e0e",
   "metadata": {},
   "outputs": [],
   "source": [
    "import pandas as pd"
   ]
  },
  {
   "cell_type": "code",
   "execution_count": 3,
   "id": "b2f96191",
   "metadata": {},
   "outputs": [],
   "source": [
    "s3=boto3.resource('s3')"
   ]
  },
  {
   "cell_type": "code",
   "execution_count": 5,
   "id": "74bab6ed",
   "metadata": {},
   "outputs": [],
   "source": [
    "s3.meta.client.upload_file(r'E:\\Aroha Tech\\AWS Session\\vehicle_income_expense_master.csv','som-aws-bucket-1','vehicle_income_expense_master.csv')"
   ]
  },
  {
   "cell_type": "code",
   "execution_count": 6,
   "id": "8c51e2ed",
   "metadata": {},
   "outputs": [],
   "source": [
    "path='s3://som-aws-bucket-1/vehicle_income_expense_master.csv'\n",
    "data=pd.read_csv(path, header=None, names=['inc_exp_id','inc_exp_desc','amount_sign','inc_exp_type'])"
   ]
  },
  {
   "cell_type": "code",
   "execution_count": 7,
   "id": "aefdf83a",
   "metadata": {},
   "outputs": [
    {
     "data": {
      "text/html": [
       "<div>\n",
       "<style scoped>\n",
       "    .dataframe tbody tr th:only-of-type {\n",
       "        vertical-align: middle;\n",
       "    }\n",
       "\n",
       "    .dataframe tbody tr th {\n",
       "        vertical-align: top;\n",
       "    }\n",
       "\n",
       "    .dataframe thead th {\n",
       "        text-align: right;\n",
       "    }\n",
       "</style>\n",
       "<table border=\"1\" class=\"dataframe\">\n",
       "  <thead>\n",
       "    <tr style=\"text-align: right;\">\n",
       "      <th></th>\n",
       "      <th>inc_exp_id</th>\n",
       "      <th>inc_exp_desc</th>\n",
       "      <th>amount_sign</th>\n",
       "      <th>inc_exp_type</th>\n",
       "    </tr>\n",
       "  </thead>\n",
       "  <tbody>\n",
       "    <tr>\n",
       "      <th>0</th>\n",
       "      <td>1</td>\n",
       "      <td>Tripsheet Income</td>\n",
       "      <td>1.0</td>\n",
       "      <td>Income</td>\n",
       "    </tr>\n",
       "    <tr>\n",
       "      <th>1</th>\n",
       "      <td>2</td>\n",
       "      <td>Voucher Receipt</td>\n",
       "      <td>1.0</td>\n",
       "      <td>Income</td>\n",
       "    </tr>\n",
       "    <tr>\n",
       "      <th>2</th>\n",
       "      <td>3</td>\n",
       "      <td>Trip Expense - Recovery(Y)</td>\n",
       "      <td>1.0</td>\n",
       "      <td>Income</td>\n",
       "    </tr>\n",
       "    <tr>\n",
       "      <th>3</th>\n",
       "      <td>4</td>\n",
       "      <td>Trip Expense</td>\n",
       "      <td>-1.0</td>\n",
       "      <td>Expense</td>\n",
       "    </tr>\n",
       "    <tr>\n",
       "      <th>4</th>\n",
       "      <td>5</td>\n",
       "      <td>Fuel</td>\n",
       "      <td>-1.0</td>\n",
       "      <td>Expense</td>\n",
       "    </tr>\n",
       "    <tr>\n",
       "      <th>5</th>\n",
       "      <td>6</td>\n",
       "      <td>Voucher Payment</td>\n",
       "      <td>-1.0</td>\n",
       "      <td>Expense</td>\n",
       "    </tr>\n",
       "    <tr>\n",
       "      <th>6</th>\n",
       "      <td>7</td>\n",
       "      <td>Journal Entry</td>\n",
       "      <td>-1.0</td>\n",
       "      <td>Expense</td>\n",
       "    </tr>\n",
       "    <tr>\n",
       "      <th>7</th>\n",
       "      <td>8</td>\n",
       "      <td>AMC</td>\n",
       "      <td>-1.0</td>\n",
       "      <td>Expense</td>\n",
       "    </tr>\n",
       "    <tr>\n",
       "      <th>8</th>\n",
       "      <td>9</td>\n",
       "      <td>Inv Distribute</td>\n",
       "      <td>0.0</td>\n",
       "      <td>Expense</td>\n",
       "    </tr>\n",
       "    <tr>\n",
       "      <th>9</th>\n",
       "      <td>10</td>\n",
       "      <td>JC Invoice</td>\n",
       "      <td>-1.0</td>\n",
       "      <td>Expense</td>\n",
       "    </tr>\n",
       "    <tr>\n",
       "      <th>10</th>\n",
       "      <td>11</td>\n",
       "      <td>Accident Settelment</td>\n",
       "      <td>-1.0</td>\n",
       "      <td>Expense</td>\n",
       "    </tr>\n",
       "    <tr>\n",
       "      <th>11</th>\n",
       "      <td>12</td>\n",
       "      <td>Accident Claim</td>\n",
       "      <td>1.0</td>\n",
       "      <td>Income</td>\n",
       "    </tr>\n",
       "    <tr>\n",
       "      <th>12</th>\n",
       "      <td>13</td>\n",
       "      <td>T6 BillGeneration</td>\n",
       "      <td>1.0</td>\n",
       "      <td>Income</td>\n",
       "    </tr>\n",
       "    <tr>\n",
       "      <th>13</th>\n",
       "      <td>14</td>\n",
       "      <td>Tyre Assignment &amp; Rethread</td>\n",
       "      <td>-1.0</td>\n",
       "      <td>Expense</td>\n",
       "    </tr>\n",
       "    <tr>\n",
       "      <th>14</th>\n",
       "      <td>15</td>\n",
       "      <td>Tyre Cost</td>\n",
       "      <td>-1.0</td>\n",
       "      <td>Expense</td>\n",
       "    </tr>\n",
       "    <tr>\n",
       "      <th>15</th>\n",
       "      <td>16</td>\n",
       "      <td>Wayside BillGeneration</td>\n",
       "      <td>1.0</td>\n",
       "      <td>Income</td>\n",
       "    </tr>\n",
       "    <tr>\n",
       "      <th>16</th>\n",
       "      <td>17</td>\n",
       "      <td>Vehicle Finance</td>\n",
       "      <td>-1.0</td>\n",
       "      <td>Expense</td>\n",
       "    </tr>\n",
       "    <tr>\n",
       "      <th>17</th>\n",
       "      <td>18</td>\n",
       "      <td>Vehicle Certificates</td>\n",
       "      <td>-1.0</td>\n",
       "      <td>Expense</td>\n",
       "    </tr>\n",
       "    <tr>\n",
       "      <th>18</th>\n",
       "      <td>19</td>\n",
       "      <td>Vehicle Certificates - Agent Charges</td>\n",
       "      <td>-1.0</td>\n",
       "      <td>Expense</td>\n",
       "    </tr>\n",
       "    <tr>\n",
       "      <th>19</th>\n",
       "      <td>20</td>\n",
       "      <td>Trip Batta</td>\n",
       "      <td>-1.0</td>\n",
       "      <td>Expense</td>\n",
       "    </tr>\n",
       "    <tr>\n",
       "      <th>20</th>\n",
       "      <td>21</td>\n",
       "      <td>Driver Tripsheet Batta</td>\n",
       "      <td>-1.0</td>\n",
       "      <td>Expense</td>\n",
       "    </tr>\n",
       "    <tr>\n",
       "      <th>21</th>\n",
       "      <td>22</td>\n",
       "      <td>Employee Salary</td>\n",
       "      <td>-1.0</td>\n",
       "      <td>Expense</td>\n",
       "    </tr>\n",
       "    <tr>\n",
       "      <th>22</th>\n",
       "      <td>23</td>\n",
       "      <td>Driver Helper Incentives</td>\n",
       "      <td>-1.0</td>\n",
       "      <td>Expense</td>\n",
       "    </tr>\n",
       "    <tr>\n",
       "      <th>23</th>\n",
       "      <td>24</td>\n",
       "      <td>PRR Casual Bill</td>\n",
       "      <td>1.0</td>\n",
       "      <td>Income</td>\n",
       "    </tr>\n",
       "    <tr>\n",
       "      <th>24</th>\n",
       "      <td>25</td>\n",
       "      <td>PRR Monthly Bill</td>\n",
       "      <td>1.0</td>\n",
       "      <td>Income</td>\n",
       "    </tr>\n",
       "    <tr>\n",
       "      <th>25</th>\n",
       "      <td>26</td>\n",
       "      <td>Driver TS Expense</td>\n",
       "      <td>-1.0</td>\n",
       "      <td>Expense</td>\n",
       "    </tr>\n",
       "  </tbody>\n",
       "</table>\n",
       "</div>"
      ],
      "text/plain": [
       "    inc_exp_id                          inc_exp_desc  amount_sign inc_exp_type\n",
       "0            1                      Tripsheet Income          1.0       Income\n",
       "1            2                       Voucher Receipt          1.0       Income\n",
       "2            3            Trip Expense - Recovery(Y)          1.0       Income\n",
       "3            4                          Trip Expense         -1.0      Expense\n",
       "4            5                                  Fuel         -1.0      Expense\n",
       "5            6                       Voucher Payment         -1.0      Expense\n",
       "6            7                         Journal Entry         -1.0      Expense\n",
       "7            8                                   AMC         -1.0      Expense\n",
       "8            9                        Inv Distribute          0.0      Expense\n",
       "9           10                            JC Invoice         -1.0      Expense\n",
       "10          11                   Accident Settelment         -1.0      Expense\n",
       "11          12                        Accident Claim          1.0       Income\n",
       "12          13                     T6 BillGeneration          1.0       Income\n",
       "13          14            Tyre Assignment & Rethread         -1.0      Expense\n",
       "14          15                             Tyre Cost         -1.0      Expense\n",
       "15          16                Wayside BillGeneration          1.0       Income\n",
       "16          17                       Vehicle Finance         -1.0      Expense\n",
       "17          18                  Vehicle Certificates         -1.0      Expense\n",
       "18          19  Vehicle Certificates - Agent Charges         -1.0      Expense\n",
       "19          20                            Trip Batta         -1.0      Expense\n",
       "20          21                Driver Tripsheet Batta         -1.0      Expense\n",
       "21          22                       Employee Salary         -1.0      Expense\n",
       "22          23              Driver Helper Incentives         -1.0      Expense\n",
       "23          24                       PRR Casual Bill          1.0       Income\n",
       "24          25                      PRR Monthly Bill          1.0       Income\n",
       "25          26                     Driver TS Expense         -1.0      Expense"
      ]
     },
     "execution_count": 7,
     "metadata": {},
     "output_type": "execute_result"
    }
   ],
   "source": [
    "data"
   ]
  },
  {
   "cell_type": "code",
   "execution_count": 8,
   "id": "46b69e3d",
   "metadata": {},
   "outputs": [],
   "source": [
    "import mysql.connector"
   ]
  },
  {
   "cell_type": "code",
   "execution_count": 9,
   "id": "d85a8f70",
   "metadata": {},
   "outputs": [],
   "source": [
    "con=mysql.connector.connect(host='localhost',database='test',user='root',password='root')\n",
    "cursor=con.cursor()"
   ]
  },
  {
   "cell_type": "code",
   "execution_count": 10,
   "id": "cb9ef727",
   "metadata": {},
   "outputs": [
    {
     "name": "stdout",
     "output_type": "stream",
     "text": [
      "Table Created Successfully..\n"
     ]
    }
   ],
   "source": [
    "cursor.execute(\" create table vehicle_income_expense_master_table(inc_exp_id int(4) primary Key,inc_exp_desc varchar(250),amount_sign decimal(9),inc_exp_type varchar(250)); \")\n",
    "print(\"Table Created Successfully..\")"
   ]
  },
  {
   "cell_type": "code",
   "execution_count": 11,
   "id": "c95ca253",
   "metadata": {},
   "outputs": [
    {
     "data": {
      "text/plain": [
       "True"
      ]
     },
     "execution_count": 11,
     "metadata": {},
     "output_type": "execute_result"
    }
   ],
   "source": [
    "for (row,column) in data.iterrows():\n",
    "    query=\" insert into vehicle_income_expense_master_table (inc_exp_id,inc_exp_desc,amount_sign,inc_exp_type) values (%s,%s,%s,%s) \"\n",
    "   \n",
    "    iei=column[0]\n",
    "    ied=str(column[1])\n",
    "    ams=column[2]\n",
    "    iet=str(column[3])\n",
    "        \n",
    "    record=(iei,ied,ams,iet)\n",
    "    cursor.execute(query,record)\n",
    "con.commit()\n",
    "cursor.close()"
   ]
  },
  {
   "cell_type": "code",
   "execution_count": 16,
   "id": "e583f4b6",
   "metadata": {},
   "outputs": [],
   "source": [
    "con=mysql.connector.connect(host='localhost',database='test',user='root',password='root')\n",
    "cursor=con.cursor()"
   ]
  },
  {
   "cell_type": "code",
   "execution_count": 17,
   "id": "570502b0",
   "metadata": {},
   "outputs": [],
   "source": [
    "cursor.execute(\"select * from vehicle_income_expense_master_table\")"
   ]
  },
  {
   "cell_type": "code",
   "execution_count": 18,
   "id": "b7bc5cb1",
   "metadata": {},
   "outputs": [],
   "source": [
    "table_data=cursor.fetchall()"
   ]
  },
  {
   "cell_type": "code",
   "execution_count": 19,
   "id": "022058e1",
   "metadata": {},
   "outputs": [
    {
     "name": "stdout",
     "output_type": "stream",
     "text": [
      "(1, 'Tripsheet Income', Decimal('1'), 'Income')\n",
      "(2, 'Voucher Receipt', Decimal('1'), 'Income')\n",
      "(3, 'Trip Expense - Recovery(Y)', Decimal('1'), 'Income')\n",
      "(4, 'Trip Expense', Decimal('-1'), 'Expense')\n",
      "(5, 'Fuel', Decimal('-1'), 'Expense')\n",
      "(6, 'Voucher Payment', Decimal('-1'), 'Expense')\n",
      "(7, 'Journal Entry', Decimal('-1'), 'Expense')\n",
      "(8, 'AMC', Decimal('-1'), 'Expense')\n",
      "(9, 'Inv Distribute', Decimal('0'), 'Expense')\n",
      "(10, 'JC Invoice', Decimal('-1'), 'Expense')\n",
      "(11, 'Accident Settelment', Decimal('-1'), 'Expense')\n",
      "(12, 'Accident Claim', Decimal('1'), 'Income')\n",
      "(13, 'T6 BillGeneration', Decimal('1'), 'Income')\n",
      "(14, 'Tyre Assignment & Rethread', Decimal('-1'), 'Expense')\n",
      "(15, 'Tyre Cost', Decimal('-1'), 'Expense')\n",
      "(16, 'Wayside BillGeneration', Decimal('1'), 'Income')\n",
      "(17, 'Vehicle Finance', Decimal('-1'), 'Expense')\n",
      "(18, 'Vehicle Certificates', Decimal('-1'), 'Expense')\n",
      "(19, 'Vehicle Certificates - Agent Charges', Decimal('-1'), 'Expense')\n",
      "(20, 'Trip Batta', Decimal('-1'), 'Expense')\n",
      "(21, 'Driver Tripsheet Batta', Decimal('-1'), 'Expense')\n",
      "(22, 'Employee Salary', Decimal('-1'), 'Expense')\n",
      "(23, 'Driver Helper Incentives', Decimal('-1'), 'Expense')\n",
      "(24, 'PRR Casual Bill', Decimal('1'), 'Income')\n",
      "(25, 'PRR Monthly Bill', Decimal('1'), 'Income')\n",
      "(26, 'Driver TS Expense', Decimal('-1'), 'Expense')\n"
     ]
    }
   ],
   "source": [
    "for row in table_data:\n",
    "    print(row)"
   ]
  },
  {
   "cell_type": "code",
   "execution_count": null,
   "id": "7b54549b",
   "metadata": {},
   "outputs": [],
   "source": []
  }
 ],
 "metadata": {
  "kernelspec": {
   "display_name": "Python 3",
   "language": "python",
   "name": "python3"
  },
  "language_info": {
   "codemirror_mode": {
    "name": "ipython",
    "version": 3
   },
   "file_extension": ".py",
   "mimetype": "text/x-python",
   "name": "python",
   "nbconvert_exporter": "python",
   "pygments_lexer": "ipython3",
   "version": "3.8.8"
  }
 },
 "nbformat": 4,
 "nbformat_minor": 5
}
