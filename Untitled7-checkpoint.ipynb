{
 "cells": [
  {
   "cell_type": "code",
   "execution_count": 1,
   "id": "6919ad47",
   "metadata": {},
   "outputs": [
    {
     "name": "stdout",
     "output_type": "stream",
     "text": [
      "    empno   ename        job     mgr    hiredate     sal    comm  deptno\n",
      "0    7369   SMITH      CLERK  7902.0  1980-12-17   800.0     NaN      20\n",
      "1    7499   ALLEN   SALESMAN  7698.0  1981-02-20  1600.0   300.0      30\n",
      "2    7521    WARD   SALESMAN  7698.0  1981-02-22  2975.0   500.0      30\n",
      "3    7566   JONES    MANAGER  7839.0  1981-04-02  2975.0     NaN      20\n",
      "4    7654  MARTIN   SALESMAN  7698.0  1981-09-28  1250.0  1400.0      30\n",
      "5    7698   BLAKE    MANAGER  7839.0  1981-05-01  2850.0     NaN      30\n",
      "6    7782   CLARK    MANAGER  7839.0  1981-06-09  2450.0     NaN      10\n",
      "7    7788   SCOTT    ANALYST  7566.0  1981-07-13  3000.0     NaN      20\n",
      "8    7839    KING  PRESIDENT     NaN  1981-11-17  5000.0     NaN      10\n",
      "9    7844  TURNER   SALESMAN  7698.0  1981-09-08  1500.0     0.0      30\n",
      "10   7876   ADAMS      CLERK  7788.0  1987-07-13  1100.0     NaN      20\n",
      "11   7900   JAMES      CLERK  7788.0  1981-12-03   950.0     NaN      30\n",
      "12   7902    FORD    ANALYST  7566.0  1981-12-03  3000.0     NaN      20\n",
      "13   7934  MILLER      CLERK  7782.0  1982-01-23  1300.0     NaN      10\n"
     ]
    }
   ],
   "source": [
    "\n",
    "import pandas as pd\n",
    "import sqlalchemy\n",
    "\n",
    "name='root'            # Your MySQL User name\n",
    "password='root'        # Your Password\n",
    "database_name='test'   # your Database Name\n",
    "\n",
    "#Create a Engine \n",
    "engine = sqlalchemy.create_engine('mysql+pymysql://' + name + ':' + password + '@localhost:3306/' + database_name)\n",
    "\n",
    "#Execute sql query through the engine\n",
    "df = pd.read_sql_query(\"select * from emp;\", engine)\n",
    "#print Executed data \n",
    "print(df)\n"
   ]
  },
  {
   "cell_type": "code",
   "execution_count": 14,
   "id": "38729c8a",
   "metadata": {},
   "outputs": [
    {
     "name": "stdout",
     "output_type": "stream",
     "text": [
      "      User_id  Password        Date      Time status_mode\n",
      "0  7978840210    456545  2012-05-03  10:04:24      Active\n"
     ]
    }
   ],
   "source": [
    "id='7978840210'\n",
    "print(pd.read_sql_query(\"select * from User_details where user_id='{}';\".format(id), engine))"
   ]
  },
  {
   "cell_type": "code",
   "execution_count": null,
   "id": "f57dc099",
   "metadata": {},
   "outputs": [],
   "source": []
  },
  {
   "cell_type": "code",
   "execution_count": null,
   "id": "91304778",
   "metadata": {},
   "outputs": [],
   "source": []
  },
  {
   "cell_type": "code",
   "execution_count": null,
   "id": "d09f1690",
   "metadata": {},
   "outputs": [],
   "source": [
    "\n",
    "    "
   ]
  },
  {
   "cell_type": "code",
   "execution_count": 3,
   "id": "fbc133d7",
   "metadata": {},
   "outputs": [
    {
     "name": "stdout",
     "output_type": "stream",
     "text": [
      "<class 'str'> <class 'str'>\n"
     ]
    },
    {
     "data": {
      "text/plain": [
       "True"
      ]
     },
     "execution_count": 3,
     "metadata": {},
     "output_type": "execute_result"
    }
   ],
   "source": [
    "    from datetime import datetime,date\n",
    "    import mysql.connector\n",
    "    conn = mysql.connector.connect(host=\"localhost\",user=\"root\",password=\"root\",database=\"test\")\n",
    "\n",
    "    mycursor = conn.cursor()\n",
    "    \n",
    "    date_and_time=datetime.now()\n",
    "    dt=date_and_time.date()\n",
    "    tm=date_and_time.strftime('%H:%M:%S')\n",
    "    d=str(dt)\n",
    "    print(type(str(dt)),type(tm))\n",
    "    mycursor.execute(\"update User_Details set password=%s where user_id=%s\",('Active','9658755334')  )\n",
    "    conn.commit()\n",
    "    mycursor.close()\n",
    "    "
   ]
  },
  {
   "cell_type": "code",
   "execution_count": null,
   "id": "a2898f9e",
   "metadata": {},
   "outputs": [],
   "source": []
  },
  {
   "cell_type": "code",
   "execution_count": null,
   "id": "e0243f65",
   "metadata": {},
   "outputs": [],
   "source": []
  }
 ],
 "metadata": {
  "kernelspec": {
   "display_name": "Python 3",
   "language": "python",
   "name": "python3"
  },
  "language_info": {
   "codemirror_mode": {
    "name": "ipython",
    "version": 3
   },
   "file_extension": ".py",
   "mimetype": "text/x-python",
   "name": "python",
   "nbconvert_exporter": "python",
   "pygments_lexer": "ipython3",
   "version": "3.8.8"
  }
 },
 "nbformat": 4,
 "nbformat_minor": 5
}
